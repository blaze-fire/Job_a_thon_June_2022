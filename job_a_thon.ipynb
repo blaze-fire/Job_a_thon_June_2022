{
  "cells": [
    {
      "cell_type": "markdown",
      "metadata": {
        "id": "view-in-github",
        "colab_type": "text"
      },
      "source": [
        "<a href=\"https://colab.research.google.com/github/blaze-fire/Job_a_thon_June_2022/blob/main/job_a_thon.ipynb\" target=\"_parent\"><img src=\"https://colab.research.google.com/assets/colab-badge.svg\" alt=\"Open In Colab\"/></a>"
      ]
    },
    {
      "cell_type": "code",
      "execution_count": 1,
      "metadata": {
        "colab": {
          "base_uri": "https://localhost:8080/"
        },
        "id": "q-VxWd4mLgHS",
        "outputId": "f32766c3-dc9f-45eb-a017-aa5a527715ed"
      },
      "outputs": [
        {
          "output_type": "stream",
          "name": "stdout",
          "text": [
            "Cloning into 'Job_a_thon_June_2022'...\n",
            "remote: Enumerating objects: 46, done.\u001b[K\n",
            "remote: Counting objects: 100% (46/46), done.\u001b[K\n",
            "remote: Compressing objects: 100% (36/36), done.\u001b[K\n",
            "remote: Total 46 (delta 10), reused 37 (delta 7), pack-reused 0\u001b[K\n",
            "Unpacking objects: 100% (46/46), done.\n"
          ]
        }
      ],
      "source": [
        "!git clone https://github.com/blaze-fire/Job_a_thon_June_2022.git"
      ]
    },
    {
      "cell_type": "code",
      "execution_count": 1,
      "metadata": {
        "id": "fBUIauxVLorZ"
      },
      "outputs": [],
      "source": [
        "import pandas as pd\n",
        "import numpy as np\n",
        "import matplotlib.pyplot as plt\n",
        "import seaborn as sns\n",
        "import os"
      ]
    },
    {
      "cell_type": "code",
      "source": [
        "path='/Job_a_thon_June_2022'"
      ],
      "metadata": {
        "id": "1nLy4OMppoyg"
      },
      "execution_count": 2,
      "outputs": []
    },
    {
      "cell_type": "code",
      "execution_count": 3,
      "metadata": {
        "id": "3OvFo0EpL1pw"
      },
      "outputs": [],
      "source": [
        "df = pd.read_csv(os.getcwd()+path+'/data/train_wn75k28.csv')"
      ]
    },
    {
      "cell_type": "code",
      "execution_count": 4,
      "metadata": {
        "colab": {
          "base_uri": "https://localhost:8080/",
          "height": 270
        },
        "id": "b2TXqSorL5M-",
        "outputId": "1d1e5486-3ab6-486d-e71c-8023738103ca"
      },
      "outputs": [
        {
          "output_type": "execute_result",
          "data": {
            "text/plain": [
              "   id  created_at  campaign_var_1  campaign_var_2  products_purchased  \\\n",
              "0   1  2021-01-01               1               2                 2.0   \n",
              "1   2  2021-01-01               2               1                 2.0   \n",
              "2   3  2021-01-01               9               3                 3.0   \n",
              "3   4  2021-01-01               6               7                 2.0   \n",
              "4   5  2021-01-01               4               6                 NaN   \n",
              "\n",
              "  signup_date  user_activity_var_1  user_activity_var_2  user_activity_var_3  \\\n",
              "0  2020-09-24                    0                    0                    0   \n",
              "1  2020-09-19                    1                    0                    1   \n",
              "2  2021-08-11                    1                    0                    0   \n",
              "3  2017-10-04                    0                    0                    0   \n",
              "4  2020-06-08                    0                    0                    0   \n",
              "\n",
              "   user_activity_var_4  user_activity_var_5  user_activity_var_6  \\\n",
              "0                    0                    0                    0   \n",
              "1                    0                    0                    0   \n",
              "2                    0                    0                    0   \n",
              "3                    0                    0                    0   \n",
              "4                    0                    0                    0   \n",
              "\n",
              "   user_activity_var_7  user_activity_var_8  user_activity_var_9  \\\n",
              "0                    1                    1                    0   \n",
              "1                    1                    0                    0   \n",
              "2                    0                    0                    0   \n",
              "3                    0                    0                    0   \n",
              "4                    1                    0                    0   \n",
              "\n",
              "   user_activity_var_10  user_activity_var_11  user_activity_var_12  buy  \n",
              "0                     0                     0                     0    0  \n",
              "1                     0                     0                     0    0  \n",
              "2                     0                     0                     0    0  \n",
              "3                     0                     0                     0    0  \n",
              "4                     0                     1                     0    0  "
            ],
            "text/html": [
              "\n",
              "  <div id=\"df-c30ef444-a6a1-40cd-ab40-d9d931bc4cf2\">\n",
              "    <div class=\"colab-df-container\">\n",
              "      <div>\n",
              "<style scoped>\n",
              "    .dataframe tbody tr th:only-of-type {\n",
              "        vertical-align: middle;\n",
              "    }\n",
              "\n",
              "    .dataframe tbody tr th {\n",
              "        vertical-align: top;\n",
              "    }\n",
              "\n",
              "    .dataframe thead th {\n",
              "        text-align: right;\n",
              "    }\n",
              "</style>\n",
              "<table border=\"1\" class=\"dataframe\">\n",
              "  <thead>\n",
              "    <tr style=\"text-align: right;\">\n",
              "      <th></th>\n",
              "      <th>id</th>\n",
              "      <th>created_at</th>\n",
              "      <th>campaign_var_1</th>\n",
              "      <th>campaign_var_2</th>\n",
              "      <th>products_purchased</th>\n",
              "      <th>signup_date</th>\n",
              "      <th>user_activity_var_1</th>\n",
              "      <th>user_activity_var_2</th>\n",
              "      <th>user_activity_var_3</th>\n",
              "      <th>user_activity_var_4</th>\n",
              "      <th>user_activity_var_5</th>\n",
              "      <th>user_activity_var_6</th>\n",
              "      <th>user_activity_var_7</th>\n",
              "      <th>user_activity_var_8</th>\n",
              "      <th>user_activity_var_9</th>\n",
              "      <th>user_activity_var_10</th>\n",
              "      <th>user_activity_var_11</th>\n",
              "      <th>user_activity_var_12</th>\n",
              "      <th>buy</th>\n",
              "    </tr>\n",
              "  </thead>\n",
              "  <tbody>\n",
              "    <tr>\n",
              "      <th>0</th>\n",
              "      <td>1</td>\n",
              "      <td>2021-01-01</td>\n",
              "      <td>1</td>\n",
              "      <td>2</td>\n",
              "      <td>2.0</td>\n",
              "      <td>2020-09-24</td>\n",
              "      <td>0</td>\n",
              "      <td>0</td>\n",
              "      <td>0</td>\n",
              "      <td>0</td>\n",
              "      <td>0</td>\n",
              "      <td>0</td>\n",
              "      <td>1</td>\n",
              "      <td>1</td>\n",
              "      <td>0</td>\n",
              "      <td>0</td>\n",
              "      <td>0</td>\n",
              "      <td>0</td>\n",
              "      <td>0</td>\n",
              "    </tr>\n",
              "    <tr>\n",
              "      <th>1</th>\n",
              "      <td>2</td>\n",
              "      <td>2021-01-01</td>\n",
              "      <td>2</td>\n",
              "      <td>1</td>\n",
              "      <td>2.0</td>\n",
              "      <td>2020-09-19</td>\n",
              "      <td>1</td>\n",
              "      <td>0</td>\n",
              "      <td>1</td>\n",
              "      <td>0</td>\n",
              "      <td>0</td>\n",
              "      <td>0</td>\n",
              "      <td>1</td>\n",
              "      <td>0</td>\n",
              "      <td>0</td>\n",
              "      <td>0</td>\n",
              "      <td>0</td>\n",
              "      <td>0</td>\n",
              "      <td>0</td>\n",
              "    </tr>\n",
              "    <tr>\n",
              "      <th>2</th>\n",
              "      <td>3</td>\n",
              "      <td>2021-01-01</td>\n",
              "      <td>9</td>\n",
              "      <td>3</td>\n",
              "      <td>3.0</td>\n",
              "      <td>2021-08-11</td>\n",
              "      <td>1</td>\n",
              "      <td>0</td>\n",
              "      <td>0</td>\n",
              "      <td>0</td>\n",
              "      <td>0</td>\n",
              "      <td>0</td>\n",
              "      <td>0</td>\n",
              "      <td>0</td>\n",
              "      <td>0</td>\n",
              "      <td>0</td>\n",
              "      <td>0</td>\n",
              "      <td>0</td>\n",
              "      <td>0</td>\n",
              "    </tr>\n",
              "    <tr>\n",
              "      <th>3</th>\n",
              "      <td>4</td>\n",
              "      <td>2021-01-01</td>\n",
              "      <td>6</td>\n",
              "      <td>7</td>\n",
              "      <td>2.0</td>\n",
              "      <td>2017-10-04</td>\n",
              "      <td>0</td>\n",
              "      <td>0</td>\n",
              "      <td>0</td>\n",
              "      <td>0</td>\n",
              "      <td>0</td>\n",
              "      <td>0</td>\n",
              "      <td>0</td>\n",
              "      <td>0</td>\n",
              "      <td>0</td>\n",
              "      <td>0</td>\n",
              "      <td>0</td>\n",
              "      <td>0</td>\n",
              "      <td>0</td>\n",
              "    </tr>\n",
              "    <tr>\n",
              "      <th>4</th>\n",
              "      <td>5</td>\n",
              "      <td>2021-01-01</td>\n",
              "      <td>4</td>\n",
              "      <td>6</td>\n",
              "      <td>NaN</td>\n",
              "      <td>2020-06-08</td>\n",
              "      <td>0</td>\n",
              "      <td>0</td>\n",
              "      <td>0</td>\n",
              "      <td>0</td>\n",
              "      <td>0</td>\n",
              "      <td>0</td>\n",
              "      <td>1</td>\n",
              "      <td>0</td>\n",
              "      <td>0</td>\n",
              "      <td>0</td>\n",
              "      <td>1</td>\n",
              "      <td>0</td>\n",
              "      <td>0</td>\n",
              "    </tr>\n",
              "  </tbody>\n",
              "</table>\n",
              "</div>\n",
              "      <button class=\"colab-df-convert\" onclick=\"convertToInteractive('df-c30ef444-a6a1-40cd-ab40-d9d931bc4cf2')\"\n",
              "              title=\"Convert this dataframe to an interactive table.\"\n",
              "              style=\"display:none;\">\n",
              "        \n",
              "  <svg xmlns=\"http://www.w3.org/2000/svg\" height=\"24px\"viewBox=\"0 0 24 24\"\n",
              "       width=\"24px\">\n",
              "    <path d=\"M0 0h24v24H0V0z\" fill=\"none\"/>\n",
              "    <path d=\"M18.56 5.44l.94 2.06.94-2.06 2.06-.94-2.06-.94-.94-2.06-.94 2.06-2.06.94zm-11 1L8.5 8.5l.94-2.06 2.06-.94-2.06-.94L8.5 2.5l-.94 2.06-2.06.94zm10 10l.94 2.06.94-2.06 2.06-.94-2.06-.94-.94-2.06-.94 2.06-2.06.94z\"/><path d=\"M17.41 7.96l-1.37-1.37c-.4-.4-.92-.59-1.43-.59-.52 0-1.04.2-1.43.59L10.3 9.45l-7.72 7.72c-.78.78-.78 2.05 0 2.83L4 21.41c.39.39.9.59 1.41.59.51 0 1.02-.2 1.41-.59l7.78-7.78 2.81-2.81c.8-.78.8-2.07 0-2.86zM5.41 20L4 18.59l7.72-7.72 1.47 1.35L5.41 20z\"/>\n",
              "  </svg>\n",
              "      </button>\n",
              "      \n",
              "  <style>\n",
              "    .colab-df-container {\n",
              "      display:flex;\n",
              "      flex-wrap:wrap;\n",
              "      gap: 12px;\n",
              "    }\n",
              "\n",
              "    .colab-df-convert {\n",
              "      background-color: #E8F0FE;\n",
              "      border: none;\n",
              "      border-radius: 50%;\n",
              "      cursor: pointer;\n",
              "      display: none;\n",
              "      fill: #1967D2;\n",
              "      height: 32px;\n",
              "      padding: 0 0 0 0;\n",
              "      width: 32px;\n",
              "    }\n",
              "\n",
              "    .colab-df-convert:hover {\n",
              "      background-color: #E2EBFA;\n",
              "      box-shadow: 0px 1px 2px rgba(60, 64, 67, 0.3), 0px 1px 3px 1px rgba(60, 64, 67, 0.15);\n",
              "      fill: #174EA6;\n",
              "    }\n",
              "\n",
              "    [theme=dark] .colab-df-convert {\n",
              "      background-color: #3B4455;\n",
              "      fill: #D2E3FC;\n",
              "    }\n",
              "\n",
              "    [theme=dark] .colab-df-convert:hover {\n",
              "      background-color: #434B5C;\n",
              "      box-shadow: 0px 1px 3px 1px rgba(0, 0, 0, 0.15);\n",
              "      filter: drop-shadow(0px 1px 2px rgba(0, 0, 0, 0.3));\n",
              "      fill: #FFFFFF;\n",
              "    }\n",
              "  </style>\n",
              "\n",
              "      <script>\n",
              "        const buttonEl =\n",
              "          document.querySelector('#df-c30ef444-a6a1-40cd-ab40-d9d931bc4cf2 button.colab-df-convert');\n",
              "        buttonEl.style.display =\n",
              "          google.colab.kernel.accessAllowed ? 'block' : 'none';\n",
              "\n",
              "        async function convertToInteractive(key) {\n",
              "          const element = document.querySelector('#df-c30ef444-a6a1-40cd-ab40-d9d931bc4cf2');\n",
              "          const dataTable =\n",
              "            await google.colab.kernel.invokeFunction('convertToInteractive',\n",
              "                                                     [key], {});\n",
              "          if (!dataTable) return;\n",
              "\n",
              "          const docLinkHtml = 'Like what you see? Visit the ' +\n",
              "            '<a target=\"_blank\" href=https://colab.research.google.com/notebooks/data_table.ipynb>data table notebook</a>'\n",
              "            + ' to learn more about interactive tables.';\n",
              "          element.innerHTML = '';\n",
              "          dataTable['output_type'] = 'display_data';\n",
              "          await google.colab.output.renderOutput(dataTable, element);\n",
              "          const docLink = document.createElement('div');\n",
              "          docLink.innerHTML = docLinkHtml;\n",
              "          element.appendChild(docLink);\n",
              "        }\n",
              "      </script>\n",
              "    </div>\n",
              "  </div>\n",
              "  "
            ]
          },
          "metadata": {},
          "execution_count": 4
        }
      ],
      "source": [
        "# df.drop('id', axis=1, inplace=True)\n",
        "df.head()"
      ]
    },
    {
      "cell_type": "code",
      "execution_count": 5,
      "metadata": {
        "id": "7ZBKpDMzMv8q",
        "colab": {
          "base_uri": "https://localhost:8080/"
        },
        "outputId": "fbceb76e-e450-4a42-e807-bed65f0d2718"
      },
      "outputs": [
        {
          "output_type": "stream",
          "name": "stdout",
          "text": [
            "<class 'pandas.core.frame.DataFrame'>\n",
            "RangeIndex: 39161 entries, 0 to 39160\n",
            "Data columns (total 19 columns):\n",
            " #   Column                Non-Null Count  Dtype  \n",
            "---  ------                --------------  -----  \n",
            " 0   id                    39161 non-null  int64  \n",
            " 1   created_at            39161 non-null  object \n",
            " 2   campaign_var_1        39161 non-null  int64  \n",
            " 3   campaign_var_2        39161 non-null  int64  \n",
            " 4   products_purchased    18250 non-null  float64\n",
            " 5   signup_date           24048 non-null  object \n",
            " 6   user_activity_var_1   39161 non-null  int64  \n",
            " 7   user_activity_var_2   39161 non-null  int64  \n",
            " 8   user_activity_var_3   39161 non-null  int64  \n",
            " 9   user_activity_var_4   39161 non-null  int64  \n",
            " 10  user_activity_var_5   39161 non-null  int64  \n",
            " 11  user_activity_var_6   39161 non-null  int64  \n",
            " 12  user_activity_var_7   39161 non-null  int64  \n",
            " 13  user_activity_var_8   39161 non-null  int64  \n",
            " 14  user_activity_var_9   39161 non-null  int64  \n",
            " 15  user_activity_var_10  39161 non-null  int64  \n",
            " 16  user_activity_var_11  39161 non-null  int64  \n",
            " 17  user_activity_var_12  39161 non-null  int64  \n",
            " 18  buy                   39161 non-null  int64  \n",
            "dtypes: float64(1), int64(16), object(2)\n",
            "memory usage: 5.7+ MB\n"
          ]
        }
      ],
      "source": [
        "df.info()"
      ]
    },
    {
      "cell_type": "code",
      "execution_count": 6,
      "metadata": {
        "id": "VClsx23RL6EJ"
      },
      "outputs": [],
      "source": [
        "# Name of Day of week\n",
        "df['created_at_day_of_week'] = pd.to_datetime(df['created_at']).dt.day_name()\n",
        "# df['signup_date_day_of_week'] = pd.to_datetime(df['signup_date']).dt.day_name()"
      ]
    },
    {
      "cell_type": "code",
      "execution_count": 6,
      "metadata": {
        "id": "cNSgzZl4N9Jr"
      },
      "outputs": [],
      "source": [
        ""
      ]
    },
    {
      "cell_type": "code",
      "execution_count": 7,
      "metadata": {
        "id": "Tyu8yFHfd-BT"
      },
      "outputs": [],
      "source": [
        "# Day of week\n",
        "df['created_at_dow'] = pd.to_datetime(df['created_at']).dt.dayofweek\n",
        "# df['signup_date_dow'] = pd.to_datetime(df['signup_date']).dt.dayofweek"
      ]
    },
    {
      "cell_type": "code",
      "execution_count": 8,
      "metadata": {
        "id": "j00d2OwFefZ7"
      },
      "outputs": [],
      "source": [
        "#isweekwnd\n",
        "\n",
        "df['created_at_isWeekwnd'] = np.where(df['created_at_day_of_week'].isin(['Sunday', 'Saturday']), 1, 0)\n",
        "# df['signup_date_dow_isWeekwnd'] = np.where(df['signup_date_day_of_week'].isin(['Sunday', 'Saturday']), 1, 0)"
      ]
    },
    {
      "cell_type": "code",
      "execution_count": 9,
      "metadata": {
        "id": "SsP-eSz-e8pN"
      },
      "outputs": [],
      "source": [
        "#week of year\n",
        "\n",
        "df['created_at_dateWeek'] = pd.to_datetime(df['created_at']).dt.isocalendar().week.astype(np.int8)\n",
        "# df['signup_date_dow_dateWeek'] = pd.to_datetime(df['signup_date']).dt.isocalendar().week.apply(lambda x: np.int8(x) if pd.notnull(x) else np.nan)"
      ]
    },
    {
      "cell_type": "code",
      "execution_count": 10,
      "metadata": {
        "id": "pelYMf5HfpdH"
      },
      "outputs": [],
      "source": [
        "# quarter of year\n",
        "\n",
        "df['created_at_quarter'] = pd.to_datetime(df['created_at']).dt.quarter\n",
        "# df['signup_date_dow_quarter'] = pd.to_datetime(df['signup_date']).dt.quarter"
      ]
    },
    {
      "cell_type": "code",
      "execution_count": 11,
      "metadata": {
        "id": "aRmZtdFugG_8"
      },
      "outputs": [],
      "source": [
        "# days between user signed up and the lead was dropped \n",
        "\n",
        "# df['lead_dropped_Minus_signup_date_Days'] = (pd.to_datetime(df['created_at']) - pd.to_datetime(df['signup_date'])).dt.days"
      ]
    },
    {
      "cell_type": "code",
      "execution_count": 12,
      "metadata": {
        "id": "27a1dYsThgp8"
      },
      "outputs": [],
      "source": [
        "# months between user signed up and the lead was dropped\n",
        "\n",
        "# df['lead_dropped_Minus_signup_date_Months'] = np.round((pd.to_datetime(df['created_at']) - pd.to_datetime(df['signup_date']))/np.timedelta64(1,'M'), 0)"
      ]
    },
    {
      "cell_type": "code",
      "execution_count": 12,
      "metadata": {
        "id": "Ry_qXk6Jhnjj"
      },
      "outputs": [],
      "source": [
        ""
      ]
    },
    {
      "cell_type": "markdown",
      "metadata": {
        "id": "xwPYXawtNLiB"
      },
      "source": [
        "<b>Cyclic Feature Encoding</b> <br>\n",
        "<p>\n",
        "Data that has a unique set of values that repeat in a cycle are known as cyclic data. Time-related features are mainly cyclic in nature. For example, months of a year, days of a week, hours of time, minutes of time etc... These features have a set of values and all the observations will have a value from this set only. In many ML problems, we encounter such features. Handling such features properly have proved to help in the improvement of accuracy.\n",
        "</p>\n",
        "\n",
        "Post: https://stackoverflow.com/a/70485603"
      ]
    },
    {
      "cell_type": "code",
      "execution_count": 13,
      "metadata": {
        "id": "sRDrQLS4NVJ-"
      },
      "outputs": [],
      "source": [
        "def encode(data, col, max_val):\n",
        "    data[col + '_sin'] = data[col].apply(lambda x: np.round(np.sin(2 * np.pi * float(x)/max_val), 5) if pd.notnull(x) else x)\n",
        "    data[col + '_cos'] = data[col].apply(lambda x: np.round(np.cos(2 * np.pi * float(x)/max_val), 5) if pd.notnull(x) else x)\n",
        "    data.drop(col, axis=1, inplace=True)\n",
        "    return data"
      ]
    },
    {
      "cell_type": "code",
      "execution_count": 13,
      "metadata": {
        "id": "3YQrL3VzVffY"
      },
      "outputs": [],
      "source": [
        ""
      ]
    },
    {
      "cell_type": "code",
      "execution_count": 14,
      "metadata": {
        "id": "7ZQ68R4dVkSw"
      },
      "outputs": [],
      "source": [
        "# extract month \n",
        "\n",
        "df['created_at_month'] = pd.to_datetime(df['created_at']).dt.month\n",
        "# df['signup_date_month'] = pd.to_datetime(df['signup_date']).dt.month"
      ]
    },
    {
      "cell_type": "code",
      "execution_count": 15,
      "metadata": {
        "id": "9-C0JqFJWM9R"
      },
      "outputs": [],
      "source": [
        "# extract day\n",
        "\n",
        "df['created_at_date'] = pd.to_datetime(df['created_at']).dt.day\n",
        "# df['signup_date_date'] = pd.to_datetime(df['signup_date']).dt.day"
      ]
    },
    {
      "cell_type": "code",
      "execution_count": 16,
      "metadata": {
        "id": "2v9DMTJIjLuI"
      },
      "outputs": [],
      "source": [
        "# get year of signup of the user for created_at column the year is constant\n",
        "# df['signup_year'] = pd.to_datetime(df['signup_date']).dt.year"
      ]
    },
    {
      "cell_type": "code",
      "execution_count": 17,
      "metadata": {
        "id": "psMspSfkXSxg"
      },
      "outputs": [],
      "source": [
        "df = encode(df, 'created_at_month', 12)\n",
        "# df = encode(df, 'signup_date_month', 12)"
      ]
    },
    {
      "cell_type": "code",
      "execution_count": 18,
      "metadata": {
        "id": "zaAks05R2UZt"
      },
      "outputs": [],
      "source": [
        "df = encode(df, 'created_at_date', 31)\n",
        "# df = encode(df, 'signup_date_date', 31)"
      ]
    },
    {
      "cell_type": "code",
      "execution_count": 19,
      "metadata": {
        "id": "sYsgtBidOHbK"
      },
      "outputs": [],
      "source": [
        "df.drop(['created_at', 'signup_date', 'id'], axis=1, inplace=True)"
      ]
    },
    {
      "cell_type": "code",
      "execution_count": 20,
      "metadata": {
        "colab": {
          "base_uri": "https://localhost:8080/",
          "height": 299
        },
        "id": "OKElV10jbIKi",
        "outputId": "699d4cea-c920-4ba3-8af3-e4e696af985f"
      },
      "outputs": [
        {
          "output_type": "execute_result",
          "data": {
            "text/plain": [
              "   campaign_var_1  campaign_var_2  products_purchased  user_activity_var_1  \\\n",
              "0               1               2                 2.0                    0   \n",
              "1               2               1                 2.0                    1   \n",
              "2               9               3                 3.0                    1   \n",
              "3               6               7                 2.0                    0   \n",
              "4               4               6                 NaN                    0   \n",
              "\n",
              "   user_activity_var_2  user_activity_var_3  user_activity_var_4  \\\n",
              "0                    0                    0                    0   \n",
              "1                    0                    1                    0   \n",
              "2                    0                    0                    0   \n",
              "3                    0                    0                    0   \n",
              "4                    0                    0                    0   \n",
              "\n",
              "   user_activity_var_5  user_activity_var_6  user_activity_var_7  ...  buy  \\\n",
              "0                    0                    0                    1  ...    0   \n",
              "1                    0                    0                    1  ...    0   \n",
              "2                    0                    0                    0  ...    0   \n",
              "3                    0                    0                    0  ...    0   \n",
              "4                    0                    0                    1  ...    0   \n",
              "\n",
              "   created_at_day_of_week  created_at_dow  created_at_isWeekwnd  \\\n",
              "0                  Friday               4                     0   \n",
              "1                  Friday               4                     0   \n",
              "2                  Friday               4                     0   \n",
              "3                  Friday               4                     0   \n",
              "4                  Friday               4                     0   \n",
              "\n",
              "   created_at_dateWeek  created_at_quarter created_at_month_sin  \\\n",
              "0                   53                   1                  0.5   \n",
              "1                   53                   1                  0.5   \n",
              "2                   53                   1                  0.5   \n",
              "3                   53                   1                  0.5   \n",
              "4                   53                   1                  0.5   \n",
              "\n",
              "   created_at_month_cos  created_at_date_sin  created_at_date_cos  \n",
              "0               0.86603               0.2013              0.97953  \n",
              "1               0.86603               0.2013              0.97953  \n",
              "2               0.86603               0.2013              0.97953  \n",
              "3               0.86603               0.2013              0.97953  \n",
              "4               0.86603               0.2013              0.97953  \n",
              "\n",
              "[5 rows x 25 columns]"
            ],
            "text/html": [
              "\n",
              "  <div id=\"df-1893b0af-72de-4d39-b46f-6bc394b99350\">\n",
              "    <div class=\"colab-df-container\">\n",
              "      <div>\n",
              "<style scoped>\n",
              "    .dataframe tbody tr th:only-of-type {\n",
              "        vertical-align: middle;\n",
              "    }\n",
              "\n",
              "    .dataframe tbody tr th {\n",
              "        vertical-align: top;\n",
              "    }\n",
              "\n",
              "    .dataframe thead th {\n",
              "        text-align: right;\n",
              "    }\n",
              "</style>\n",
              "<table border=\"1\" class=\"dataframe\">\n",
              "  <thead>\n",
              "    <tr style=\"text-align: right;\">\n",
              "      <th></th>\n",
              "      <th>campaign_var_1</th>\n",
              "      <th>campaign_var_2</th>\n",
              "      <th>products_purchased</th>\n",
              "      <th>user_activity_var_1</th>\n",
              "      <th>user_activity_var_2</th>\n",
              "      <th>user_activity_var_3</th>\n",
              "      <th>user_activity_var_4</th>\n",
              "      <th>user_activity_var_5</th>\n",
              "      <th>user_activity_var_6</th>\n",
              "      <th>user_activity_var_7</th>\n",
              "      <th>...</th>\n",
              "      <th>buy</th>\n",
              "      <th>created_at_day_of_week</th>\n",
              "      <th>created_at_dow</th>\n",
              "      <th>created_at_isWeekwnd</th>\n",
              "      <th>created_at_dateWeek</th>\n",
              "      <th>created_at_quarter</th>\n",
              "      <th>created_at_month_sin</th>\n",
              "      <th>created_at_month_cos</th>\n",
              "      <th>created_at_date_sin</th>\n",
              "      <th>created_at_date_cos</th>\n",
              "    </tr>\n",
              "  </thead>\n",
              "  <tbody>\n",
              "    <tr>\n",
              "      <th>0</th>\n",
              "      <td>1</td>\n",
              "      <td>2</td>\n",
              "      <td>2.0</td>\n",
              "      <td>0</td>\n",
              "      <td>0</td>\n",
              "      <td>0</td>\n",
              "      <td>0</td>\n",
              "      <td>0</td>\n",
              "      <td>0</td>\n",
              "      <td>1</td>\n",
              "      <td>...</td>\n",
              "      <td>0</td>\n",
              "      <td>Friday</td>\n",
              "      <td>4</td>\n",
              "      <td>0</td>\n",
              "      <td>53</td>\n",
              "      <td>1</td>\n",
              "      <td>0.5</td>\n",
              "      <td>0.86603</td>\n",
              "      <td>0.2013</td>\n",
              "      <td>0.97953</td>\n",
              "    </tr>\n",
              "    <tr>\n",
              "      <th>1</th>\n",
              "      <td>2</td>\n",
              "      <td>1</td>\n",
              "      <td>2.0</td>\n",
              "      <td>1</td>\n",
              "      <td>0</td>\n",
              "      <td>1</td>\n",
              "      <td>0</td>\n",
              "      <td>0</td>\n",
              "      <td>0</td>\n",
              "      <td>1</td>\n",
              "      <td>...</td>\n",
              "      <td>0</td>\n",
              "      <td>Friday</td>\n",
              "      <td>4</td>\n",
              "      <td>0</td>\n",
              "      <td>53</td>\n",
              "      <td>1</td>\n",
              "      <td>0.5</td>\n",
              "      <td>0.86603</td>\n",
              "      <td>0.2013</td>\n",
              "      <td>0.97953</td>\n",
              "    </tr>\n",
              "    <tr>\n",
              "      <th>2</th>\n",
              "      <td>9</td>\n",
              "      <td>3</td>\n",
              "      <td>3.0</td>\n",
              "      <td>1</td>\n",
              "      <td>0</td>\n",
              "      <td>0</td>\n",
              "      <td>0</td>\n",
              "      <td>0</td>\n",
              "      <td>0</td>\n",
              "      <td>0</td>\n",
              "      <td>...</td>\n",
              "      <td>0</td>\n",
              "      <td>Friday</td>\n",
              "      <td>4</td>\n",
              "      <td>0</td>\n",
              "      <td>53</td>\n",
              "      <td>1</td>\n",
              "      <td>0.5</td>\n",
              "      <td>0.86603</td>\n",
              "      <td>0.2013</td>\n",
              "      <td>0.97953</td>\n",
              "    </tr>\n",
              "    <tr>\n",
              "      <th>3</th>\n",
              "      <td>6</td>\n",
              "      <td>7</td>\n",
              "      <td>2.0</td>\n",
              "      <td>0</td>\n",
              "      <td>0</td>\n",
              "      <td>0</td>\n",
              "      <td>0</td>\n",
              "      <td>0</td>\n",
              "      <td>0</td>\n",
              "      <td>0</td>\n",
              "      <td>...</td>\n",
              "      <td>0</td>\n",
              "      <td>Friday</td>\n",
              "      <td>4</td>\n",
              "      <td>0</td>\n",
              "      <td>53</td>\n",
              "      <td>1</td>\n",
              "      <td>0.5</td>\n",
              "      <td>0.86603</td>\n",
              "      <td>0.2013</td>\n",
              "      <td>0.97953</td>\n",
              "    </tr>\n",
              "    <tr>\n",
              "      <th>4</th>\n",
              "      <td>4</td>\n",
              "      <td>6</td>\n",
              "      <td>NaN</td>\n",
              "      <td>0</td>\n",
              "      <td>0</td>\n",
              "      <td>0</td>\n",
              "      <td>0</td>\n",
              "      <td>0</td>\n",
              "      <td>0</td>\n",
              "      <td>1</td>\n",
              "      <td>...</td>\n",
              "      <td>0</td>\n",
              "      <td>Friday</td>\n",
              "      <td>4</td>\n",
              "      <td>0</td>\n",
              "      <td>53</td>\n",
              "      <td>1</td>\n",
              "      <td>0.5</td>\n",
              "      <td>0.86603</td>\n",
              "      <td>0.2013</td>\n",
              "      <td>0.97953</td>\n",
              "    </tr>\n",
              "  </tbody>\n",
              "</table>\n",
              "<p>5 rows × 25 columns</p>\n",
              "</div>\n",
              "      <button class=\"colab-df-convert\" onclick=\"convertToInteractive('df-1893b0af-72de-4d39-b46f-6bc394b99350')\"\n",
              "              title=\"Convert this dataframe to an interactive table.\"\n",
              "              style=\"display:none;\">\n",
              "        \n",
              "  <svg xmlns=\"http://www.w3.org/2000/svg\" height=\"24px\"viewBox=\"0 0 24 24\"\n",
              "       width=\"24px\">\n",
              "    <path d=\"M0 0h24v24H0V0z\" fill=\"none\"/>\n",
              "    <path d=\"M18.56 5.44l.94 2.06.94-2.06 2.06-.94-2.06-.94-.94-2.06-.94 2.06-2.06.94zm-11 1L8.5 8.5l.94-2.06 2.06-.94-2.06-.94L8.5 2.5l-.94 2.06-2.06.94zm10 10l.94 2.06.94-2.06 2.06-.94-2.06-.94-.94-2.06-.94 2.06-2.06.94z\"/><path d=\"M17.41 7.96l-1.37-1.37c-.4-.4-.92-.59-1.43-.59-.52 0-1.04.2-1.43.59L10.3 9.45l-7.72 7.72c-.78.78-.78 2.05 0 2.83L4 21.41c.39.39.9.59 1.41.59.51 0 1.02-.2 1.41-.59l7.78-7.78 2.81-2.81c.8-.78.8-2.07 0-2.86zM5.41 20L4 18.59l7.72-7.72 1.47 1.35L5.41 20z\"/>\n",
              "  </svg>\n",
              "      </button>\n",
              "      \n",
              "  <style>\n",
              "    .colab-df-container {\n",
              "      display:flex;\n",
              "      flex-wrap:wrap;\n",
              "      gap: 12px;\n",
              "    }\n",
              "\n",
              "    .colab-df-convert {\n",
              "      background-color: #E8F0FE;\n",
              "      border: none;\n",
              "      border-radius: 50%;\n",
              "      cursor: pointer;\n",
              "      display: none;\n",
              "      fill: #1967D2;\n",
              "      height: 32px;\n",
              "      padding: 0 0 0 0;\n",
              "      width: 32px;\n",
              "    }\n",
              "\n",
              "    .colab-df-convert:hover {\n",
              "      background-color: #E2EBFA;\n",
              "      box-shadow: 0px 1px 2px rgba(60, 64, 67, 0.3), 0px 1px 3px 1px rgba(60, 64, 67, 0.15);\n",
              "      fill: #174EA6;\n",
              "    }\n",
              "\n",
              "    [theme=dark] .colab-df-convert {\n",
              "      background-color: #3B4455;\n",
              "      fill: #D2E3FC;\n",
              "    }\n",
              "\n",
              "    [theme=dark] .colab-df-convert:hover {\n",
              "      background-color: #434B5C;\n",
              "      box-shadow: 0px 1px 3px 1px rgba(0, 0, 0, 0.15);\n",
              "      filter: drop-shadow(0px 1px 2px rgba(0, 0, 0, 0.3));\n",
              "      fill: #FFFFFF;\n",
              "    }\n",
              "  </style>\n",
              "\n",
              "      <script>\n",
              "        const buttonEl =\n",
              "          document.querySelector('#df-1893b0af-72de-4d39-b46f-6bc394b99350 button.colab-df-convert');\n",
              "        buttonEl.style.display =\n",
              "          google.colab.kernel.accessAllowed ? 'block' : 'none';\n",
              "\n",
              "        async function convertToInteractive(key) {\n",
              "          const element = document.querySelector('#df-1893b0af-72de-4d39-b46f-6bc394b99350');\n",
              "          const dataTable =\n",
              "            await google.colab.kernel.invokeFunction('convertToInteractive',\n",
              "                                                     [key], {});\n",
              "          if (!dataTable) return;\n",
              "\n",
              "          const docLinkHtml = 'Like what you see? Visit the ' +\n",
              "            '<a target=\"_blank\" href=https://colab.research.google.com/notebooks/data_table.ipynb>data table notebook</a>'\n",
              "            + ' to learn more about interactive tables.';\n",
              "          element.innerHTML = '';\n",
              "          dataTable['output_type'] = 'display_data';\n",
              "          await google.colab.output.renderOutput(dataTable, element);\n",
              "          const docLink = document.createElement('div');\n",
              "          docLink.innerHTML = docLinkHtml;\n",
              "          element.appendChild(docLink);\n",
              "        }\n",
              "      </script>\n",
              "    </div>\n",
              "  </div>\n",
              "  "
            ]
          },
          "metadata": {},
          "execution_count": 20
        }
      ],
      "source": [
        "df.head()"
      ]
    },
    {
      "cell_type": "markdown",
      "metadata": {
        "id": "_Pq8DxnqxkDB",
        "jp-MarkdownHeadingCollapsed": true,
        "tags": []
      },
      "source": [
        "## fill missing values"
      ]
    },
    {
      "cell_type": "code",
      "execution_count": null,
      "metadata": {
        "colab": {
          "base_uri": "https://localhost:8080/"
        },
        "id": "0gXXFepzyFen",
        "outputId": "ecfbef6a-a695-4ede-84d1-182c3de5fc65"
      },
      "outputs": [
        {
          "data": {
            "text/plain": [
              "created_at                    0\n",
              "campaign_var_1                0\n",
              "campaign_var_2                0\n",
              "products_purchased        20911\n",
              "signup_date               15113\n",
              "user_activity_var_1           0\n",
              "user_activity_var_2           0\n",
              "user_activity_var_3           0\n",
              "user_activity_var_4           0\n",
              "user_activity_var_5           0\n",
              "user_activity_var_6           0\n",
              "user_activity_var_7           0\n",
              "user_activity_var_8           0\n",
              "user_activity_var_9           0\n",
              "user_activity_var_10          0\n",
              "user_activity_var_11          0\n",
              "user_activity_var_12          0\n",
              "buy                           0\n",
              "created_at_day_of_week        0\n",
              "created_at_dow                0\n",
              "created_at_isWeekwnd          0\n",
              "created_at_dateWeek           0\n",
              "created_at_quarter            0\n",
              "signup_date_month         15113\n",
              "signup_date_date          15113\n",
              "signup_year               15113\n",
              "created_at_month_sin          0\n",
              "created_at_month_cos          0\n",
              "created_at_date_sin           0\n",
              "created_at_date_cos           0\n",
              "dtype: int64"
            ]
          },
          "execution_count": 19,
          "metadata": {},
          "output_type": "execute_result"
        }
      ],
      "source": [
        "df.isnull().sum()"
      ]
    },
    {
      "cell_type": "code",
      "execution_count": null,
      "metadata": {
        "id": "lgscvHPAyUlq"
      },
      "outputs": [],
      "source": [
        "df_prods_purchased = df.select_dtypes(exclude='object').drop(['signup_year', 'signup_date_date', 'signup_date_month','buy'], axis=1)"
      ]
    },
    {
      "cell_type": "code",
      "execution_count": null,
      "metadata": {
        "id": "aVg-P4WZpSmh",
        "outputId": "3b544b9b-07dc-400e-df40-cd6d2a18259d"
      },
      "outputs": [
        {
          "data": {
            "text/plain": [
              "campaign_var_1              0\n",
              "campaign_var_2              0\n",
              "products_purchased      20911\n",
              "user_activity_var_1         0\n",
              "user_activity_var_2         0\n",
              "user_activity_var_3         0\n",
              "user_activity_var_4         0\n",
              "user_activity_var_5         0\n",
              "user_activity_var_6         0\n",
              "user_activity_var_7         0\n",
              "user_activity_var_8         0\n",
              "user_activity_var_9         0\n",
              "user_activity_var_10        0\n",
              "user_activity_var_11        0\n",
              "user_activity_var_12        0\n",
              "created_at_dow              0\n",
              "created_at_isWeekwnd        0\n",
              "created_at_dateWeek         0\n",
              "created_at_quarter          0\n",
              "created_at_month_sin        0\n",
              "created_at_month_cos        0\n",
              "created_at_date_sin         0\n",
              "created_at_date_cos         0\n",
              "dtype: int64"
            ]
          },
          "execution_count": 22,
          "metadata": {},
          "output_type": "execute_result"
        }
      ],
      "source": [
        "df_prods_purchased.isnull().sum()"
      ]
    },
    {
      "cell_type": "code",
      "execution_count": null,
      "metadata": {
        "id": "JuM9dVtRyA2p"
      },
      "outputs": [],
      "source": [
        "X_train = df_prods_purchased[~df_prods_purchased['products_purchased'].isnull()].drop(['products_purchased'], axis=1)\n",
        "y_train = df_prods_purchased[~df_prods_purchased['products_purchased'].isnull()]['products_purchased'].astype(np.int8)"
      ]
    },
    {
      "cell_type": "code",
      "execution_count": null,
      "metadata": {
        "id": "rX2Shnmf0pH0"
      },
      "outputs": [],
      "source": [
        "X_test =  df[df['products_purchased'].isnull()].select_dtypes(exclude='object').drop(['signup_year', 'signup_date_date', 'signup_date_month', 'products_purchased', 'buy'], axis=1)"
      ]
    },
    {
      "cell_type": "code",
      "execution_count": null,
      "metadata": {
        "colab": {
          "base_uri": "https://localhost:8080/",
          "height": 299
        },
        "id": "D-E5MZhfyBC_",
        "outputId": "cc55c56e-245e-4233-ff6b-10c3757e895f"
      },
      "outputs": [
        {
          "data": {
            "text/html": [
              "<div>\n",
              "<style scoped>\n",
              "    .dataframe tbody tr th:only-of-type {\n",
              "        vertical-align: middle;\n",
              "    }\n",
              "\n",
              "    .dataframe tbody tr th {\n",
              "        vertical-align: top;\n",
              "    }\n",
              "\n",
              "    .dataframe thead th {\n",
              "        text-align: right;\n",
              "    }\n",
              "</style>\n",
              "<table border=\"1\" class=\"dataframe\">\n",
              "  <thead>\n",
              "    <tr style=\"text-align: right;\">\n",
              "      <th></th>\n",
              "      <th>campaign_var_1</th>\n",
              "      <th>campaign_var_2</th>\n",
              "      <th>user_activity_var_1</th>\n",
              "      <th>user_activity_var_2</th>\n",
              "      <th>user_activity_var_3</th>\n",
              "      <th>user_activity_var_4</th>\n",
              "      <th>user_activity_var_5</th>\n",
              "      <th>user_activity_var_6</th>\n",
              "      <th>user_activity_var_7</th>\n",
              "      <th>user_activity_var_8</th>\n",
              "      <th>...</th>\n",
              "      <th>user_activity_var_11</th>\n",
              "      <th>user_activity_var_12</th>\n",
              "      <th>created_at_dow</th>\n",
              "      <th>created_at_isWeekwnd</th>\n",
              "      <th>created_at_dateWeek</th>\n",
              "      <th>created_at_quarter</th>\n",
              "      <th>created_at_month_sin</th>\n",
              "      <th>created_at_month_cos</th>\n",
              "      <th>created_at_date_sin</th>\n",
              "      <th>created_at_date_cos</th>\n",
              "    </tr>\n",
              "  </thead>\n",
              "  <tbody>\n",
              "    <tr>\n",
              "      <th>0</th>\n",
              "      <td>1</td>\n",
              "      <td>2</td>\n",
              "      <td>0</td>\n",
              "      <td>0</td>\n",
              "      <td>0</td>\n",
              "      <td>0</td>\n",
              "      <td>0</td>\n",
              "      <td>0</td>\n",
              "      <td>1</td>\n",
              "      <td>1</td>\n",
              "      <td>...</td>\n",
              "      <td>0</td>\n",
              "      <td>0</td>\n",
              "      <td>4</td>\n",
              "      <td>0</td>\n",
              "      <td>53</td>\n",
              "      <td>1</td>\n",
              "      <td>0.5</td>\n",
              "      <td>0.86603</td>\n",
              "      <td>0.2013</td>\n",
              "      <td>0.97953</td>\n",
              "    </tr>\n",
              "    <tr>\n",
              "      <th>1</th>\n",
              "      <td>2</td>\n",
              "      <td>1</td>\n",
              "      <td>1</td>\n",
              "      <td>0</td>\n",
              "      <td>1</td>\n",
              "      <td>0</td>\n",
              "      <td>0</td>\n",
              "      <td>0</td>\n",
              "      <td>1</td>\n",
              "      <td>0</td>\n",
              "      <td>...</td>\n",
              "      <td>0</td>\n",
              "      <td>0</td>\n",
              "      <td>4</td>\n",
              "      <td>0</td>\n",
              "      <td>53</td>\n",
              "      <td>1</td>\n",
              "      <td>0.5</td>\n",
              "      <td>0.86603</td>\n",
              "      <td>0.2013</td>\n",
              "      <td>0.97953</td>\n",
              "    </tr>\n",
              "    <tr>\n",
              "      <th>2</th>\n",
              "      <td>9</td>\n",
              "      <td>3</td>\n",
              "      <td>1</td>\n",
              "      <td>0</td>\n",
              "      <td>0</td>\n",
              "      <td>0</td>\n",
              "      <td>0</td>\n",
              "      <td>0</td>\n",
              "      <td>0</td>\n",
              "      <td>0</td>\n",
              "      <td>...</td>\n",
              "      <td>0</td>\n",
              "      <td>0</td>\n",
              "      <td>4</td>\n",
              "      <td>0</td>\n",
              "      <td>53</td>\n",
              "      <td>1</td>\n",
              "      <td>0.5</td>\n",
              "      <td>0.86603</td>\n",
              "      <td>0.2013</td>\n",
              "      <td>0.97953</td>\n",
              "    </tr>\n",
              "    <tr>\n",
              "      <th>3</th>\n",
              "      <td>6</td>\n",
              "      <td>7</td>\n",
              "      <td>0</td>\n",
              "      <td>0</td>\n",
              "      <td>0</td>\n",
              "      <td>0</td>\n",
              "      <td>0</td>\n",
              "      <td>0</td>\n",
              "      <td>0</td>\n",
              "      <td>0</td>\n",
              "      <td>...</td>\n",
              "      <td>0</td>\n",
              "      <td>0</td>\n",
              "      <td>4</td>\n",
              "      <td>0</td>\n",
              "      <td>53</td>\n",
              "      <td>1</td>\n",
              "      <td>0.5</td>\n",
              "      <td>0.86603</td>\n",
              "      <td>0.2013</td>\n",
              "      <td>0.97953</td>\n",
              "    </tr>\n",
              "    <tr>\n",
              "      <th>5</th>\n",
              "      <td>3</td>\n",
              "      <td>4</td>\n",
              "      <td>0</td>\n",
              "      <td>0</td>\n",
              "      <td>0</td>\n",
              "      <td>0</td>\n",
              "      <td>0</td>\n",
              "      <td>1</td>\n",
              "      <td>0</td>\n",
              "      <td>0</td>\n",
              "      <td>...</td>\n",
              "      <td>0</td>\n",
              "      <td>0</td>\n",
              "      <td>4</td>\n",
              "      <td>0</td>\n",
              "      <td>53</td>\n",
              "      <td>1</td>\n",
              "      <td>0.5</td>\n",
              "      <td>0.86603</td>\n",
              "      <td>0.2013</td>\n",
              "      <td>0.97953</td>\n",
              "    </tr>\n",
              "  </tbody>\n",
              "</table>\n",
              "<p>5 rows × 22 columns</p>\n",
              "</div>"
            ],
            "text/plain": [
              "   campaign_var_1  campaign_var_2  user_activity_var_1  user_activity_var_2  \\\n",
              "0               1               2                    0                    0   \n",
              "1               2               1                    1                    0   \n",
              "2               9               3                    1                    0   \n",
              "3               6               7                    0                    0   \n",
              "5               3               4                    0                    0   \n",
              "\n",
              "   user_activity_var_3  user_activity_var_4  user_activity_var_5  \\\n",
              "0                    0                    0                    0   \n",
              "1                    1                    0                    0   \n",
              "2                    0                    0                    0   \n",
              "3                    0                    0                    0   \n",
              "5                    0                    0                    0   \n",
              "\n",
              "   user_activity_var_6  user_activity_var_7  user_activity_var_8  ...  \\\n",
              "0                    0                    1                    1  ...   \n",
              "1                    0                    1                    0  ...   \n",
              "2                    0                    0                    0  ...   \n",
              "3                    0                    0                    0  ...   \n",
              "5                    1                    0                    0  ...   \n",
              "\n",
              "   user_activity_var_11  user_activity_var_12  created_at_dow  \\\n",
              "0                     0                     0               4   \n",
              "1                     0                     0               4   \n",
              "2                     0                     0               4   \n",
              "3                     0                     0               4   \n",
              "5                     0                     0               4   \n",
              "\n",
              "   created_at_isWeekwnd  created_at_dateWeek  created_at_quarter  \\\n",
              "0                     0                   53                   1   \n",
              "1                     0                   53                   1   \n",
              "2                     0                   53                   1   \n",
              "3                     0                   53                   1   \n",
              "5                     0                   53                   1   \n",
              "\n",
              "   created_at_month_sin  created_at_month_cos  created_at_date_sin  \\\n",
              "0                   0.5               0.86603               0.2013   \n",
              "1                   0.5               0.86603               0.2013   \n",
              "2                   0.5               0.86603               0.2013   \n",
              "3                   0.5               0.86603               0.2013   \n",
              "5                   0.5               0.86603               0.2013   \n",
              "\n",
              "   created_at_date_cos  \n",
              "0              0.97953  \n",
              "1              0.97953  \n",
              "2              0.97953  \n",
              "3              0.97953  \n",
              "5              0.97953  \n",
              "\n",
              "[5 rows x 22 columns]"
            ]
          },
          "execution_count": 46,
          "metadata": {},
          "output_type": "execute_result"
        }
      ],
      "source": [
        "X_train.head()"
      ]
    },
    {
      "cell_type": "code",
      "execution_count": null,
      "metadata": {
        "id": "49dRDDo2F_T7"
      },
      "outputs": [],
      "source": [
        "from imblearn.over_sampling import SMOTE\n",
        "oversample = SMOTE(sampling_strategy='auto')\n",
        "X_train_balanced, y_train_balanced = oversample.fit_resample(X_train, y_train)"
      ]
    },
    {
      "cell_type": "code",
      "execution_count": null,
      "metadata": {
        "id": "nwSHS-VxyBIU"
      },
      "outputs": [],
      "source": [
        "from sklearn.preprocessing import LabelEncoder\n",
        "le = LabelEncoder()\n",
        "\n",
        "y_train_balanced = le.fit_transform(y_train_balanced)"
      ]
    },
    {
      "cell_type": "code",
      "execution_count": null,
      "metadata": {
        "id": "fCyx8wmpxnR4"
      },
      "outputs": [],
      "source": [
        "from sklearn.model_selection import GridSearchCV\n",
        "\n",
        "param_grid = {\n",
        "    'learning_rate': np.arange(0.06, 0.09, 0.01),\n",
        "    'n_estimators': np.arange(101, 110),\n",
        "}\n",
        "\n",
        "grid_search = GridSearchCV(XGBClassifier(n_estimators=108, learning_rate = 0.06,max_depth=3, verbose=5, tree_method = 'gpu_hist'), param_grid, scoring='f1_macro', cv=5, verbose=5)\n",
        "grid_search.fit(X_train, y_train)\n",
        "\n",
        "grid_search.best_score_\n",
        "grid_search.best_params_\n"
      ]
    },
    {
      "cell_type": "code",
      "execution_count": null,
      "metadata": {
        "id": "w9aREJn8CQLd",
        "outputId": "5f02ee86-475e-4638-f8b4-983cb178d214"
      },
      "outputs": [
        {
          "name": "stdout",
          "output_type": "stream",
          "text": [
            "[22:09:59] WARNING: ../src/learner.cc:627: \n",
            "Parameters: { \"verbose\" } might not be used.\n",
            "\n",
            "  This could be a false alarm, with some parameters getting used by language bindings but\n",
            "  then being mistakenly passed down to XGBoost core, or some parameter actually being used\n",
            "  but getting flagged wrongly here. Please open an issue if you find any such cases.\n",
            "\n",
            "\n"
          ]
        }
      ],
      "source": [
        "from xgboost import XGBClassifier\n",
        "xgbClfBest = XGBClassifier(n_estimators=108, learning_rate = 0.06,max_depth=3, verbose=5)\n",
        "xgbClfBest.fit(X_train_balanced, y_train_balanced)\n",
        "pred = le.inverse_transform(xgbClfBest.predict(X_test))"
      ]
    },
    {
      "cell_type": "code",
      "execution_count": null,
      "metadata": {
        "id": "3LWiW9ARF_5R"
      },
      "outputs": [],
      "source": [
        "X_test['products_purchased'] = pred\n",
        "X_train['products_purchased'] = y_train"
      ]
    },
    {
      "cell_type": "code",
      "execution_count": null,
      "metadata": {
        "id": "LMIgjnR0JAcw"
      },
      "outputs": [],
      "source": [
        "final_df_prod_purchased = pd.concat([X_train, X_test], axis=0)\n",
        "final_df_prod_purchased.reset_index(inplace=True)\n",
        "final_df_prod_purchased.sort_values(by='index', inplace=True)\n",
        "final_df_prod_purchased.drop('index', axis=1, inplace=True)\n",
        "final_df_prod_purchased.reset_index(drop=True, inplace=True)"
      ]
    },
    {
      "cell_type": "code",
      "execution_count": null,
      "metadata": {
        "id": "sU7bhNzoJ3tk"
      },
      "outputs": [],
      "source": [
        "df['products_purchased'] = final_df_prod_purchased['products_purchased']"
      ]
    },
    {
      "cell_type": "code",
      "execution_count": null,
      "metadata": {
        "colab": {
          "base_uri": "https://localhost:8080/",
          "height": 299
        },
        "id": "DrDA2JyDJAsU",
        "outputId": "8168c692-69cb-41f3-b386-31409ffbd600"
      },
      "outputs": [
        {
          "data": {
            "text/html": [
              "<div>\n",
              "<style scoped>\n",
              "    .dataframe tbody tr th:only-of-type {\n",
              "        vertical-align: middle;\n",
              "    }\n",
              "\n",
              "    .dataframe tbody tr th {\n",
              "        vertical-align: top;\n",
              "    }\n",
              "\n",
              "    .dataframe thead th {\n",
              "        text-align: right;\n",
              "    }\n",
              "</style>\n",
              "<table border=\"1\" class=\"dataframe\">\n",
              "  <thead>\n",
              "    <tr style=\"text-align: right;\">\n",
              "      <th></th>\n",
              "      <th>created_at</th>\n",
              "      <th>campaign_var_1</th>\n",
              "      <th>campaign_var_2</th>\n",
              "      <th>products_purchased</th>\n",
              "      <th>signup_date</th>\n",
              "      <th>user_activity_var_1</th>\n",
              "      <th>user_activity_var_2</th>\n",
              "      <th>user_activity_var_3</th>\n",
              "      <th>user_activity_var_4</th>\n",
              "      <th>user_activity_var_5</th>\n",
              "      <th>...</th>\n",
              "      <th>created_at_isWeekwnd</th>\n",
              "      <th>created_at_dateWeek</th>\n",
              "      <th>created_at_quarter</th>\n",
              "      <th>signup_date_month</th>\n",
              "      <th>signup_date_date</th>\n",
              "      <th>signup_year</th>\n",
              "      <th>created_at_month_sin</th>\n",
              "      <th>created_at_month_cos</th>\n",
              "      <th>created_at_date_sin</th>\n",
              "      <th>created_at_date_cos</th>\n",
              "    </tr>\n",
              "  </thead>\n",
              "  <tbody>\n",
              "    <tr>\n",
              "      <th>0</th>\n",
              "      <td>2021-01-01</td>\n",
              "      <td>1</td>\n",
              "      <td>2</td>\n",
              "      <td>2</td>\n",
              "      <td>2020-09-24</td>\n",
              "      <td>0</td>\n",
              "      <td>0</td>\n",
              "      <td>0</td>\n",
              "      <td>0</td>\n",
              "      <td>0</td>\n",
              "      <td>...</td>\n",
              "      <td>0</td>\n",
              "      <td>53</td>\n",
              "      <td>1</td>\n",
              "      <td>9.0</td>\n",
              "      <td>24.0</td>\n",
              "      <td>2020.0</td>\n",
              "      <td>0.5</td>\n",
              "      <td>0.86603</td>\n",
              "      <td>0.2013</td>\n",
              "      <td>0.97953</td>\n",
              "    </tr>\n",
              "    <tr>\n",
              "      <th>1</th>\n",
              "      <td>2021-01-01</td>\n",
              "      <td>2</td>\n",
              "      <td>1</td>\n",
              "      <td>2</td>\n",
              "      <td>2020-09-19</td>\n",
              "      <td>1</td>\n",
              "      <td>0</td>\n",
              "      <td>1</td>\n",
              "      <td>0</td>\n",
              "      <td>0</td>\n",
              "      <td>...</td>\n",
              "      <td>0</td>\n",
              "      <td>53</td>\n",
              "      <td>1</td>\n",
              "      <td>9.0</td>\n",
              "      <td>19.0</td>\n",
              "      <td>2020.0</td>\n",
              "      <td>0.5</td>\n",
              "      <td>0.86603</td>\n",
              "      <td>0.2013</td>\n",
              "      <td>0.97953</td>\n",
              "    </tr>\n",
              "    <tr>\n",
              "      <th>2</th>\n",
              "      <td>2021-01-01</td>\n",
              "      <td>9</td>\n",
              "      <td>3</td>\n",
              "      <td>3</td>\n",
              "      <td>2021-08-11</td>\n",
              "      <td>1</td>\n",
              "      <td>0</td>\n",
              "      <td>0</td>\n",
              "      <td>0</td>\n",
              "      <td>0</td>\n",
              "      <td>...</td>\n",
              "      <td>0</td>\n",
              "      <td>53</td>\n",
              "      <td>1</td>\n",
              "      <td>8.0</td>\n",
              "      <td>11.0</td>\n",
              "      <td>2021.0</td>\n",
              "      <td>0.5</td>\n",
              "      <td>0.86603</td>\n",
              "      <td>0.2013</td>\n",
              "      <td>0.97953</td>\n",
              "    </tr>\n",
              "    <tr>\n",
              "      <th>3</th>\n",
              "      <td>2021-01-01</td>\n",
              "      <td>6</td>\n",
              "      <td>7</td>\n",
              "      <td>2</td>\n",
              "      <td>2017-10-04</td>\n",
              "      <td>0</td>\n",
              "      <td>0</td>\n",
              "      <td>0</td>\n",
              "      <td>0</td>\n",
              "      <td>0</td>\n",
              "      <td>...</td>\n",
              "      <td>0</td>\n",
              "      <td>53</td>\n",
              "      <td>1</td>\n",
              "      <td>10.0</td>\n",
              "      <td>4.0</td>\n",
              "      <td>2017.0</td>\n",
              "      <td>0.5</td>\n",
              "      <td>0.86603</td>\n",
              "      <td>0.2013</td>\n",
              "      <td>0.97953</td>\n",
              "    </tr>\n",
              "    <tr>\n",
              "      <th>4</th>\n",
              "      <td>2021-01-01</td>\n",
              "      <td>4</td>\n",
              "      <td>6</td>\n",
              "      <td>2</td>\n",
              "      <td>2020-06-08</td>\n",
              "      <td>0</td>\n",
              "      <td>0</td>\n",
              "      <td>0</td>\n",
              "      <td>0</td>\n",
              "      <td>0</td>\n",
              "      <td>...</td>\n",
              "      <td>0</td>\n",
              "      <td>53</td>\n",
              "      <td>1</td>\n",
              "      <td>6.0</td>\n",
              "      <td>8.0</td>\n",
              "      <td>2020.0</td>\n",
              "      <td>0.5</td>\n",
              "      <td>0.86603</td>\n",
              "      <td>0.2013</td>\n",
              "      <td>0.97953</td>\n",
              "    </tr>\n",
              "  </tbody>\n",
              "</table>\n",
              "<p>5 rows × 30 columns</p>\n",
              "</div>"
            ],
            "text/plain": [
              "   created_at  campaign_var_1  campaign_var_2  products_purchased signup_date  \\\n",
              "0  2021-01-01               1               2                   2  2020-09-24   \n",
              "1  2021-01-01               2               1                   2  2020-09-19   \n",
              "2  2021-01-01               9               3                   3  2021-08-11   \n",
              "3  2021-01-01               6               7                   2  2017-10-04   \n",
              "4  2021-01-01               4               6                   2  2020-06-08   \n",
              "\n",
              "   user_activity_var_1  user_activity_var_2  user_activity_var_3  \\\n",
              "0                    0                    0                    0   \n",
              "1                    1                    0                    1   \n",
              "2                    1                    0                    0   \n",
              "3                    0                    0                    0   \n",
              "4                    0                    0                    0   \n",
              "\n",
              "   user_activity_var_4  user_activity_var_5  ...  created_at_isWeekwnd  \\\n",
              "0                    0                    0  ...                     0   \n",
              "1                    0                    0  ...                     0   \n",
              "2                    0                    0  ...                     0   \n",
              "3                    0                    0  ...                     0   \n",
              "4                    0                    0  ...                     0   \n",
              "\n",
              "   created_at_dateWeek  created_at_quarter  signup_date_month  \\\n",
              "0                   53                   1                9.0   \n",
              "1                   53                   1                9.0   \n",
              "2                   53                   1                8.0   \n",
              "3                   53                   1               10.0   \n",
              "4                   53                   1                6.0   \n",
              "\n",
              "   signup_date_date  signup_year  created_at_month_sin  created_at_month_cos  \\\n",
              "0              24.0       2020.0                   0.5               0.86603   \n",
              "1              19.0       2020.0                   0.5               0.86603   \n",
              "2              11.0       2021.0                   0.5               0.86603   \n",
              "3               4.0       2017.0                   0.5               0.86603   \n",
              "4               8.0       2020.0                   0.5               0.86603   \n",
              "\n",
              "  created_at_date_sin  created_at_date_cos  \n",
              "0              0.2013              0.97953  \n",
              "1              0.2013              0.97953  \n",
              "2              0.2013              0.97953  \n",
              "3              0.2013              0.97953  \n",
              "4              0.2013              0.97953  \n",
              "\n",
              "[5 rows x 30 columns]"
            ]
          },
          "execution_count": 55,
          "metadata": {},
          "output_type": "execute_result"
        }
      ],
      "source": [
        "df.head()"
      ]
    },
    {
      "cell_type": "markdown",
      "metadata": {
        "id": "jel9BnX_KebL",
        "jp-MarkdownHeadingCollapsed": true,
        "tags": []
      },
      "source": [
        "\n",
        "\n",
        "\n",
        "## Missing signup date\n",
        "\n",
        "\n",
        "\n",
        "\n"
      ]
    },
    {
      "cell_type": "code",
      "execution_count": null,
      "metadata": {
        "colab": {
          "base_uri": "https://localhost:8080/"
        },
        "id": "wqNAGbJSGVjQ",
        "outputId": "26ec6ec7-5fa3-471a-d855-75b31a2c9340"
      },
      "outputs": [
        {
          "data": {
            "text/plain": [
              "created_at              0\n",
              "campaign_var_1          0\n",
              "campaign_var_2          0\n",
              "products_purchased      0\n",
              "signup_date             0\n",
              "user_activity_var_1     0\n",
              "user_activity_var_2     0\n",
              "user_activity_var_3     0\n",
              "user_activity_var_4     0\n",
              "user_activity_var_5     0\n",
              "user_activity_var_6     0\n",
              "user_activity_var_7     0\n",
              "user_activity_var_8     0\n",
              "user_activity_var_9     0\n",
              "user_activity_var_10    0\n",
              "user_activity_var_11    0\n",
              "user_activity_var_12    0\n",
              "buy                     0\n",
              "dtype: int64"
            ]
          },
          "execution_count": 111,
          "metadata": {},
          "output_type": "execute_result"
        }
      ],
      "source": [
        "df.isnull().sum()"
      ]
    },
    {
      "cell_type": "code",
      "execution_count": null,
      "metadata": {
        "id": "F3GHqe1fpSml"
      },
      "outputs": [],
      "source": [
        "from sklearn.experimental import enable_iterative_imputer\n",
        "from sklearn.impute import IterativeImputer\n",
        "imp = IterativeImputer(max_iter=10, random_state=0)"
      ]
    },
    {
      "cell_type": "code",
      "execution_count": null,
      "metadata": {
        "id": "WNw5wXonpSml",
        "outputId": "f646620f-9918-4c42-d9ba-02e4ae964e25"
      },
      "outputs": [
        {
          "data": {
            "image/png": "[encoded data removed]",
            "text/plain": [
              "<Figure size 2520x504 with 1 Axes>"
            ]
          },
          "metadata": {
            "needs_background": "light"
          },
          "output_type": "display_data"
        }
      ],
      "source": [
        "plt.rcParams['figure.figsize']=(35,7)\n",
        "plt.plot(df['signup_year'].interpolate(option='spline'), color='blue')\n",
        "plt.show()"
      ]
    },
    {
      "cell_type": "code",
      "execution_count": null,
      "metadata": {
        "id": "sKRR5KBBpSml"
      },
      "outputs": [],
      "source": [
        "df['year'] = np.int16(np.round(df['signup_year'].interpolate(option='spline'), 0))\n",
        "df['month'] = np.int8(np.round(df['signup_date_month'].interpolate(option='spline'), 0))\n",
        "df['day'] = np.int8(np.round(df['signup_date_date'].interpolate(option='spline'), 0))"
      ]
    },
    {
      "cell_type": "code",
      "execution_count": null,
      "metadata": {
        "id": "uNFpe_EipSml"
      },
      "outputs": [],
      "source": [
        "# pd.to_datetime((df['year']*10000+df['month']*100+df['day']).astype('int'), format='%Y%m%d')\n",
        "\n",
        "y = np.array(df['year']-1970, dtype='<M8[Y]')\n",
        "m = np.array(df['month']-1, dtype='<m8[M]')\n",
        "d = np.array(df['day']-1, dtype='<m8[D]')\n",
        "\n",
        "df['signup_date'] = pd.Series(y+m+d)"
      ]
    },
    {
      "cell_type": "code",
      "execution_count": null,
      "metadata": {
        "id": "pF9PNDV3pSmm"
      },
      "outputs": [],
      "source": [
        ""
      ]
    },
    {
      "cell_type": "code",
      "execution_count": null,
      "metadata": {
        "id": "JJKfSU2OpSmm"
      },
      "outputs": [],
      "source": [
        ""
      ]
    },
    {
      "cell_type": "markdown",
      "metadata": {
        "id": "8r09jLT1Nqo9",
        "jp-MarkdownHeadingCollapsed": true,
        "tags": []
      },
      "source": [
        "## test dataset"
      ]
    },
    {
      "cell_type": "code",
      "execution_count": null,
      "metadata": {
        "id": "n4xo2sj7Nr-S"
      },
      "outputs": [],
      "source": [
        "test_df = pd.read_csv(os.getcwd()+'/data/test.csv')"
      ]
    },
    {
      "cell_type": "code",
      "execution_count": null,
      "metadata": {
        "id": "JaKHUrPvpSmm",
        "outputId": "8f1a918b-905a-4f77-acb3-03f11efec970"
      },
      "outputs": [
        {
          "name": "stdout",
          "output_type": "stream",
          "text": [
            "<class 'pandas.core.frame.DataFrame'>\n",
            "RangeIndex: 13184 entries, 0 to 13183\n",
            "Data columns (total 39 columns):\n",
            " #   Column                                 Non-Null Count  Dtype  \n",
            "---  ------                                 --------------  -----  \n",
            " 0   id                                     13184 non-null  int64  \n",
            " 1   created_at                             13184 non-null  object \n",
            " 2   campaign_var_1                         13184 non-null  int64  \n",
            " 3   campaign_var_2                         13184 non-null  int64  \n",
            " 4   products_purchased                     13184 non-null  float64\n",
            " 5   signup_date                            13184 non-null  object \n",
            " 6   user_activity_var_1                    13184 non-null  int64  \n",
            " 7   user_activity_var_2                    13184 non-null  int64  \n",
            " 8   user_activity_var_3                    13184 non-null  int64  \n",
            " 9   user_activity_var_4                    13184 non-null  int64  \n",
            " 10  user_activity_var_5                    13184 non-null  int64  \n",
            " 11  user_activity_var_6                    13184 non-null  int64  \n",
            " 12  user_activity_var_7                    13184 non-null  int64  \n",
            " 13  user_activity_var_8                    13184 non-null  int64  \n",
            " 14  user_activity_var_9                    13184 non-null  int64  \n",
            " 15  user_activity_var_10                   13184 non-null  int64  \n",
            " 16  user_activity_var_11                   13184 non-null  int64  \n",
            " 17  user_activity_var_12                   13184 non-null  int64  \n",
            " 18  created_at_day_of_week                 13184 non-null  object \n",
            " 19  created_at_dow                         13184 non-null  int64  \n",
            " 20  created_at_isWeekwnd                   13184 non-null  int64  \n",
            " 21  created_at_dateWeek                    13184 non-null  int64  \n",
            " 22  created_at_quarter                     13184 non-null  int64  \n",
            " 23  created_at_month_sin                   13184 non-null  float64\n",
            " 24  created_at_month_cos                   13184 non-null  float64\n",
            " 25  created_at_date_sin                    13184 non-null  float64\n",
            " 26  created_at_date_cos                    13184 non-null  float64\n",
            " 27  signup_year                            13184 non-null  int64  \n",
            " 28  signup_date_month_sin                  13184 non-null  float64\n",
            " 29  signup_date_month_cos                  13184 non-null  float64\n",
            " 30  signup_date_date_sin                   13184 non-null  float64\n",
            " 31  signup_date_date_cos                   13184 non-null  float64\n",
            " 32  signup_date_dow                        13184 non-null  int64  \n",
            " 33  signup_date_day_of_week                13184 non-null  object \n",
            " 34  lead_dropped_Minus_signup_date_Months  13184 non-null  float64\n",
            " 35  lead_dropped_Minus_signup_date_Days    13184 non-null  int64  \n",
            " 36  signup_date_dow_quarter                13184 non-null  int64  \n",
            " 37  signup_date_dow_dateWeek               13184 non-null  int64  \n",
            " 38  signup_date_dow_isWeekwnd              13184 non-null  int64  \n",
            "dtypes: float64(10), int64(25), object(4)\n",
            "memory usage: 3.9+ MB\n"
          ]
        }
      ],
      "source": [
        "test_df.info()"
      ]
    },
    {
      "cell_type": "code",
      "execution_count": null,
      "metadata": {
        "id": "dRDbsfAVNsBb",
        "outputId": "26c8ac41-2476-4578-dad2-527d91295572"
      },
      "outputs": [
        {
          "data": {
            "text/plain": [
              "id                                       0\n",
              "created_at                               0\n",
              "campaign_var_1                           0\n",
              "campaign_var_2                           0\n",
              "products_purchased                       0\n",
              "signup_date                              0\n",
              "user_activity_var_1                      0\n",
              "user_activity_var_2                      0\n",
              "user_activity_var_3                      0\n",
              "user_activity_var_4                      0\n",
              "user_activity_var_5                      0\n",
              "user_activity_var_6                      0\n",
              "user_activity_var_7                      0\n",
              "user_activity_var_8                      0\n",
              "user_activity_var_9                      0\n",
              "user_activity_var_10                     0\n",
              "user_activity_var_11                     0\n",
              "user_activity_var_12                     0\n",
              "created_at_day_of_week                   0\n",
              "created_at_dow                           0\n",
              "created_at_isWeekwnd                     0\n",
              "created_at_dateWeek                      0\n",
              "created_at_quarter                       0\n",
              "created_at_month_sin                     0\n",
              "created_at_month_cos                     0\n",
              "created_at_date_sin                      0\n",
              "created_at_date_cos                      0\n",
              "signup_year                              0\n",
              "signup_date_month_sin                    0\n",
              "signup_date_month_cos                    0\n",
              "signup_date_date_sin                     0\n",
              "signup_date_date_cos                     0\n",
              "signup_date_dow                          0\n",
              "signup_date_day_of_week                  0\n",
              "lead_dropped_Minus_signup_date_Months    0\n",
              "lead_dropped_Minus_signup_date_Days      0\n",
              "signup_date_dow_quarter                  0\n",
              "signup_date_dow_dateWeek                 0\n",
              "signup_date_dow_isWeekwnd                0\n",
              "dtype: int64"
            ]
          },
          "execution_count": 107,
          "metadata": {},
          "output_type": "execute_result"
        }
      ],
      "source": [
        "test_df.isnull().sum()"
      ]
    },
    {
      "cell_type": "code",
      "execution_count": null,
      "metadata": {
        "id": "04WL2wtFpSmm"
      },
      "outputs": [],
      "source": [
        "# test_df['signup_date_month'] = pd.to_datetime(test_df['signup_date']).dt.month\n",
        "# test_df['signup_date_date'] = pd.to_datetime(test_df['signup_date']).dt.day\n",
        "# test_df['signup_year'] = pd.to_datetime(test_df['signup_date']).dt.year\n",
        "\n",
        "# test_df['year'] = np.int16(np.round(test_df['signup_year'].interpolate(option='spline'), 0))\n",
        "# test_df['month'] = np.int8(np.round(test_df['signup_date_month'].interpolate(option='spline'), 0))\n",
        "# test_df['day'] = np.int8(np.round(test_df['signup_date_date'].interpolate(option='spline'), 0))\n",
        "\n",
        "# # pd.to_datetime((df['year']*10000+df['month']*100+df['day']).astype('int'), format='%Y%m%d')\n",
        "\n",
        "# y = np.array(test_df['year']-1970, dtype='<M8[Y]')\n",
        "# m = np.array(test_df['month']-1, dtype='<m8[M]')\n",
        "# d = np.array(test_df['day']-1, dtype='<m8[D]')\n",
        "\n",
        "# test_df['signup_date'] = pd.Series(y+m+d)\n",
        "# test_df['signup_date'] = test_df['signup_date']"
      ]
    },
    {
      "cell_type": "code",
      "execution_count": null,
      "metadata": {
        "id": "hgRHgQQxpSmn"
      },
      "outputs": [],
      "source": [
        ""
      ]
    },
    {
      "cell_type": "code",
      "execution_count": null,
      "metadata": {
        "id": "EsMVqHy2OOXu"
      },
      "outputs": [],
      "source": [
        "def preprocess(df):\n",
        "    df['created_at_day_of_week'] = pd.to_datetime(df['created_at']).dt.day_name()\n",
        "    df['created_at_dow'] = pd.to_datetime(df['created_at']).dt.dayofweek\n",
        "    df['created_at_isWeekwnd'] = np.where(df['created_at_day_of_week'].isin(['Sunday', 'Saturday']), 1, 0)\n",
        "    df['created_at_dateWeek'] = pd.to_datetime(df['created_at']).dt.isocalendar().week.astype(np.int8)\n",
        "    df['created_at_quarter'] = pd.to_datetime(df['created_at']).dt.quarter\n",
        "    df['created_at_month'] = pd.to_datetime(df['created_at']).dt.month\n",
        "    df['created_at_date'] = pd.to_datetime(df['created_at']).dt.day\n",
        "    df = encode(df, 'created_at_month', 12)\n",
        "    df = encode(df, 'created_at_date', 31)\n",
        "    \n",
        "    \n",
        "    df['signup_date_month'] = pd.to_datetime(df['signup_date']).dt.month\n",
        "    df['signup_date_date'] = pd.to_datetime(df['signup_date']).dt.day\n",
        "    df['signup_year'] = pd.to_datetime(df['signup_date']).dt.year\n",
        "    df = encode(df, 'signup_date_month', 12)\n",
        "    df = encode(df, 'signup_date_date', 31)\n",
        "    df['signup_date_dow'] = pd.to_datetime(df['signup_date']).dt.dayofweek\n",
        "    df['signup_date_day_of_week'] = pd.to_datetime(df['signup_date']).dt.day_name()\n",
        "    df['lead_dropped_Minus_signup_date_Months'] = np.round((pd.to_datetime(df['created_at']) - pd.to_datetime(df['signup_date']))/np.timedelta64(1,'M'), 0)\n",
        "    df['lead_dropped_Minus_signup_date_Days'] = (pd.to_datetime(df['created_at']) - pd.to_datetime(df['signup_date'])).dt.days\n",
        "    df['signup_date_dow_quarter'] = pd.to_datetime(df['signup_date']).dt.quarter\n",
        "    df['signup_date_dow_dateWeek'] = pd.to_datetime(df['signup_date']).dt.isocalendar().week\n",
        "    df['signup_date_dow_isWeekwnd'] = np.where(df['signup_date_day_of_week'].isin(['Sunday', 'Saturday']), 1, 0)\n",
        "    \n",
        "    return df"
      ]
    },
    {
      "cell_type": "code",
      "execution_count": null,
      "metadata": {
        "id": "yUcAkmf0OOVQ"
      },
      "outputs": [],
      "source": [
        "# test_df = preprocess(test_df)"
      ]
    },
    {
      "cell_type": "code",
      "execution_count": null,
      "metadata": {
        "id": "Mn6K9EDVpSmn"
      },
      "outputs": [],
      "source": [
        ""
      ]
    },
    {
      "cell_type": "code",
      "execution_count": null,
      "metadata": {
        "id": "RmFvgnXhOtN_"
      },
      "outputs": [],
      "source": [
        "def missing_products(df, model):\n",
        "    df_prods_purchased = df[~df['products_purchased'].isnull()]\n",
        "    X_train = df_prods_purchased.select_dtypes(exclude='object').drop(['products_purchased'], axis=1)\n",
        "    y_train = df_prods_purchased['products_purchased']\n",
        "    X_test =  df[df['products_purchased'].isnull()].select_dtypes(exclude='object').drop(['products_purchased'], axis=1)\n",
        "\n",
        "    pred = model.predict(X_test)\n",
        "\n",
        "    X_test['products_purchased'] = pred\n",
        "    X_train['products_purchased'] = y_train\n",
        "\n",
        "    final_df_prod_purchased = pd.concat([X_train, X_test], axis=0)\n",
        "    final_df_prod_purchased.reset_index(inplace=True)\n",
        "    final_df_prod_purchased.sort_values(by='index', inplace=True)\n",
        "    final_df_prod_purchased.drop('index', axis=1, inplace=True)\n",
        "    final_df_prod_purchased.reset_index(drop=True, inplace=True)\n",
        "    df['products_purchased'] = final_df_prod_purchased['products_purchased']\n",
        "\n",
        "    return df"
      ]
    },
    {
      "cell_type": "code",
      "execution_count": null,
      "metadata": {
        "id": "Ifox92nROOSn"
      },
      "outputs": [],
      "source": [
        "# ids = test_df['id']\n",
        "# test_df = missing_products(test_df.drop('id', axis=1), xgbClfBest)\n",
        "# test_df = pd.concat([ids, test_df], axis=1) "
      ]
    },
    {
      "cell_type": "code",
      "execution_count": null,
      "metadata": {
        "id": "oEDqh0kcOONP"
      },
      "outputs": [],
      "source": [
        "# test_df.to_csv(os.getcwd()+'/data/test.csv', index=False)"
      ]
    },
    {
      "cell_type": "code",
      "execution_count": null,
      "metadata": {
        "id": "Zg-5FbdgRs6Y"
      },
      "outputs": [],
      "source": [
        ""
      ]
    },
    {
      "cell_type": "code",
      "execution_count": null,
      "metadata": {
        "id": "9vW0q8MYRs3A"
      },
      "outputs": [],
      "source": [
        ""
      ]
    },
    {
      "cell_type": "code",
      "execution_count": null,
      "metadata": {
        "id": "MNnkl4A2RsxH"
      },
      "outputs": [],
      "source": [
        ""
      ]
    },
    {
      "cell_type": "code",
      "execution_count": null,
      "metadata": {
        "id": "hEePApKGpSmo"
      },
      "outputs": [],
      "source": [
        ""
      ]
    },
    {
      "cell_type": "code",
      "execution_count": null,
      "metadata": {
        "id": "yyHbRSc5pSmo"
      },
      "outputs": [],
      "source": [
        ""
      ]
    },
    {
      "cell_type": "markdown",
      "metadata": {
        "id": "2v_YmnjykFNi",
        "jp-MarkdownHeadingCollapsed": true,
        "tags": []
      },
      "source": [
        "## Prepare for training"
      ]
    },
    {
      "cell_type": "code",
      "execution_count": 21,
      "metadata": {
        "id": "ehJGFE7ukTuf"
      },
      "outputs": [],
      "source": [
        "X = df.select_dtypes(exclude='object').drop(['buy'], axis=1)\n",
        "y = df['buy']"
      ]
    },
    {
      "cell_type": "code",
      "execution_count": 22,
      "metadata": {
        "id": "ba7MC8iKX-A7"
      },
      "outputs": [],
      "source": [
        "from sklearn.model_selection import train_test_split\n",
        "X_train, X_test, y_train, y_test = train_test_split(X, y, test_size=0.25, random_state=0, stratify=y)"
      ]
    },
    {
      "cell_type": "code",
      "execution_count": 23,
      "metadata": {
        "id": "p2hcR1z1kIAG"
      },
      "outputs": [],
      "source": [
        "X_train, X_test, y_train, y_test = train_test_split(X, y, test_size=0.25, random_state=0, stratify=y)"
      ]
    },
    {
      "cell_type": "code",
      "execution_count": 23,
      "metadata": {
        "id": "UEnA6-WEkIEt"
      },
      "outputs": [],
      "source": [
        ""
      ]
    },
    {
      "cell_type": "markdown",
      "metadata": {
        "id": "T0br0l_ToV2Q"
      },
      "source": [
        "## LGBM Oversampling"
      ]
    },
    {
      "cell_type": "code",
      "execution_count": null,
      "metadata": {
        "id": "SydE5J7moux3"
      },
      "outputs": [],
      "source": [
        ""
      ]
    },
    {
      "cell_type": "code",
      "execution_count": null,
      "metadata": {
        "id": "8BXlai5aoXZ7"
      },
      "outputs": [],
      "source": [
        "from imblearn.over_sampling import BorderlineSMOTE, SMOTE, KMeansSMOTE, SVMSMOTE, ADASYN\n",
        "from imblearn.combine import SMOTEENN, SMOTETomek"
      ]
    },
    {
      "cell_type": "code",
      "execution_count": null,
      "metadata": {
        "id": "am3uXGlOoXjn"
      },
      "outputs": [],
      "source": [
        ""
      ]
    },
    {
      "cell_type": "code",
      "execution_count": null,
      "metadata": {
        "id": "XnG7b2c5pSmp",
        "outputId": "12f34a13-a062-4187-8bfe-d7e3b3353f37"
      },
      "outputs": [
        {
          "name": "stdout",
          "output_type": "stream",
          "text": [
            "<class 'imblearn.over_sampling._smote.base.SMOTE'> \n",
            "\n",
            "0.9852656485265648 \n",
            "\n",
            "\n",
            "<class 'imblearn.combine._smote_enn.SMOTEENN'> \n",
            "\n",
            "0.9847311827956989 \n",
            "\n",
            "\n",
            "<class 'imblearn.combine._smote_tomek.SMOTETomek'> \n",
            "\n",
            "0.9853281023270811 \n",
            "\n",
            "\n",
            "<class 'imblearn.over_sampling._smote.filter.BorderlineSMOTE'> \n",
            "\n",
            "0.9848321858864028 \n",
            "\n",
            "\n",
            "<class 'imblearn.over_sampling._smote.cluster.KMeansSMOTE'> \n",
            "\n",
            "0.9851644807568266 \n",
            "\n",
            "\n",
            "<class 'imblearn.over_sampling._smote.filter.SVMSMOTE'> \n",
            "\n",
            "0.9849429984942999 \n",
            "\n",
            "\n",
            "<class 'imblearn.over_sampling._adasyn.ADASYN'> \n",
            "\n",
            "0.9854387190371285 \n",
            "\n",
            "\n"
          ]
        }
      ],
      "source": [
        "samplers = [SMOTE(random_state=0), SMOTEENN(random_state=0), SMOTETomek(random_state=0), BorderlineSMOTE(random_state=0), KMeansSMOTE(random_state=0), SVMSMOTE(random_state=0), ADASYN(random_state=0)]\n",
        "\n",
        "from sklearn.model_selection import train_test_split\n",
        "from sklearn.metrics import f1_score\n",
        "from lightgbm import LGBMClassifier\n",
        "for sampler in samplers:\n",
        "    print(type(sampler), '\\n')\n",
        "    X_sampled, y_sampled = oversample.fit_resample(X, y)\n",
        "    X_train, X_test, y_train, y_test = train_test_split(X_sampled, y_sampled, test_size=0.25, random_state=0)\n",
        "    lgbmclf = LGBMClassifier(random_state=0)\n",
        "    lgbmclf.fit(X_train, y_train)\n",
        "    preds = lgbmclf.predict(X_test)\n",
        "    print(f1_score(y_test, preds), '\\n\\n')"
      ]
    },
    {
      "cell_type": "markdown",
      "metadata": {
        "id": "TgIcODBjpSmq"
      },
      "source": [
        "## Making Predictions"
      ]
    },
    {
      "cell_type": "code",
      "execution_count": null,
      "metadata": {
        "id": "PKZgLygepSmq"
      },
      "outputs": [],
      "source": [
        ""
      ]
    },
    {
      "cell_type": "code",
      "execution_count": 56,
      "metadata": {
        "id": "ysIue3_vpSmq"
      },
      "outputs": [],
      "source": [
        "test_df = pd.read_csv(os.getcwd()+path+'/data/test.csv')\n",
        "X_test_df = test_df.select_dtypes(exclude='object').drop('id', axis=1)"
      ]
    },
    {
      "cell_type": "code",
      "execution_count": null,
      "metadata": {
        "id": "IA8OqDHOpSmq"
      },
      "outputs": [],
      "source": [
        "sampler = ADASYN(random_state=0)\n",
        "X_sampled, y_sampled = oversample.fit_resample(X, y)\n",
        "lgbmclf = LGBMClassifier(random_state=0)\n",
        "lgbmclf.fit(X_sampled, y_sampled)\n",
        "preds = lgbmclf.predict(X_test_df)"
      ]
    },
    {
      "cell_type": "code",
      "execution_count": null,
      "metadata": {
        "id": "SJJp3qL8pSmq"
      },
      "outputs": [],
      "source": [
        "lgbmclf = LGBMClassifier(random_state=0)\n",
        "lgbmclf.fit(X.select_dtypes(exclude = 'object'), y)\n",
        "preds = catboostClf.predict(X_test_df)"
      ]
    },
    {
      "cell_type": "code",
      "execution_count": null,
      "metadata": {
        "id": "nY34OiPUpSmq"
      },
      "outputs": [],
      "source": [
        ""
      ]
    },
    {
      "cell_type": "code",
      "execution_count": null,
      "metadata": {
        "id": "yaobiGB8pSmq"
      },
      "outputs": [],
      "source": [
        ""
      ]
    },
    {
      "cell_type": "code",
      "execution_count": null,
      "metadata": {
        "id": "Tmb3FRuJpSmr"
      },
      "outputs": [],
      "source": [
        "sub = {\n",
        "    'id': test_df['id'],\n",
        "    'buy': preds\n",
        "}"
      ]
    },
    {
      "cell_type": "code",
      "execution_count": null,
      "metadata": {
        "id": "EYF5rw8apSmr"
      },
      "outputs": [],
      "source": [
        "sub_df = pd.DataFrame(sub)"
      ]
    },
    {
      "cell_type": "code",
      "execution_count": null,
      "metadata": {
        "id": "WsPVlmAbpSmr"
      },
      "outputs": [],
      "source": [
        "sub_df.to_csv(os.getcwd()+'/submissions/lgbmclfEntireDataset.csv', index=False)"
      ]
    },
    {
      "cell_type": "code",
      "execution_count": null,
      "metadata": {
        "id": "TmFqlvIXpSmr"
      },
      "outputs": [],
      "source": [
        ""
      ]
    },
    {
      "cell_type": "markdown",
      "metadata": {
        "id": "xsaZLnQ9kDl_",
        "tags": []
      },
      "source": [
        "## Catboost"
      ]
    },
    {
      "cell_type": "code",
      "execution_count": null,
      "metadata": {
        "id": "R319Tpy_pSmr"
      },
      "outputs": [],
      "source": [
        ""
      ]
    },
    {
      "cell_type": "code",
      "execution_count": null,
      "metadata": {
        "id": "mQEjITd-kEmO"
      },
      "outputs": [],
      "source": [
        "!pip install catboost"
      ]
    },
    {
      "cell_type": "code",
      "execution_count": 25,
      "metadata": {
        "id": "E_rjg1mBlkPu"
      },
      "outputs": [],
      "source": [
        "from catboost import CatBoostClassifier"
      ]
    },
    {
      "cell_type": "code",
      "execution_count": 61,
      "metadata": {
        "id": "dAp7hFgVlr0G"
      },
      "outputs": [],
      "source": [
        "catboostClf = CatBoostClassifier(eval_metric='F1', iterations=5000)"
      ]
    },
    {
      "cell_type": "code",
      "execution_count": null,
      "metadata": {
        "id": "ai9VBQwClxCp"
      },
      "outputs": [],
      "source": [
        "catboostClf.fit(X.select_dtypes(exclude = 'object'), y)"
      ]
    },
    {
      "cell_type": "code",
      "execution_count": 63,
      "metadata": {
        "id": "qLrAJjoTl0dj"
      },
      "outputs": [],
      "source": [
        "preds = catboostClf.predict(X_test_df)"
      ]
    },
    {
      "cell_type": "code",
      "execution_count": 64,
      "metadata": {
        "id": "BsuuJ_VCpSms"
      },
      "outputs": [],
      "source": [
        "sub = {\n",
        "    'id': test_df['id'],\n",
        "    'buy': preds\n",
        "}"
      ]
    },
    {
      "cell_type": "code",
      "execution_count": 65,
      "metadata": {
        "id": "ZbcOcXp_pSms"
      },
      "outputs": [],
      "source": [
        "sub_df = pd.DataFrame(sub)"
      ]
    },
    {
      "cell_type": "code",
      "execution_count": 66,
      "metadata": {
        "id": "jWrFYCdhpSms"
      },
      "outputs": [],
      "source": [
        "sub_df.to_csv('catboost_5000.csv', index=False)"
      ]
    },
    {
      "cell_type": "markdown",
      "source": [
        "## grid search"
      ],
      "metadata": {
        "id": "BkNR1yj0pgQt"
      }
    },
    {
      "cell_type": "code",
      "execution_count": 27,
      "metadata": {
        "id": "_2AwgCFBpSmt"
      },
      "outputs": [],
      "source": [
        "from sklearn.model_selection import GridSearchCV"
      ]
    },
    {
      "cell_type": "code",
      "execution_count": 49,
      "metadata": {
        "id": "6crT5l0WpSmt"
      },
      "outputs": [],
      "source": [
        "param_grid = {\n",
        "    'iterations': [2000],\n",
        "    'learning_rate': [0.001],\n",
        "    # 'depth': [5, 6]\n",
        "}"
      ]
    },
    {
      "cell_type": "code",
      "execution_count": 50,
      "metadata": {
        "id": "r9rWS3zwpSmt"
      },
      "outputs": [],
      "source": [
        "grid_search = GridSearchCV(CatBoostClassifier(eval_metric='F1', task_type=\"GPU\"), param_grid, scoring='f1', verbose=2, cv=3)"
      ]
    },
    {
      "cell_type": "code",
      "execution_count": null,
      "metadata": {
        "id": "Jqmq7u_npSmt"
      },
      "outputs": [],
      "source": [
        "grid_search.fit(X.select_dtypes(exclude = 'object'), y)"
      ]
    },
    {
      "cell_type": "code",
      "execution_count": 53,
      "metadata": {
        "colab": {
          "base_uri": "https://localhost:8080/"
        },
        "id": "R0iskN26pSmt",
        "outputId": "673ffdf9-f3ef-437b-8acb-692cd7614764"
      },
      "outputs": [
        {
          "output_type": "execute_result",
          "data": {
            "text/plain": [
              "{'iterations': 2000, 'learning_rate': 0.001}"
            ]
          },
          "metadata": {},
          "execution_count": 53
        }
      ],
      "source": [
        "grid_search.best_params_"
      ]
    },
    {
      "cell_type": "code",
      "source": [
        "estimator = grid_search.best_estimator_"
      ],
      "metadata": {
        "id": "vsFlrqJkaOgL"
      },
      "execution_count": 58,
      "outputs": []
    },
    {
      "cell_type": "code",
      "source": [
        "estimator.fit(X.select_dtypes(exclude = 'object'), y)"
      ],
      "metadata": {
        "id": "_3rv320HaQra"
      },
      "execution_count": null,
      "outputs": []
    },
    {
      "cell_type": "code",
      "execution_count": 60,
      "metadata": {
        "id": "yEwlxd3hpSmt"
      },
      "outputs": [],
      "source": [
        "preds = estimator.predict(test_df.select_dtypes(exclude='object').drop('id', axis=1))\n",
        "sub = pd.DataFrame({'id':test_df['id'], 'buy': preds})\n",
        "sub.to_csv(f'Catboost_sub.csv', index=False)"
      ]
    },
    {
      "cell_type": "code",
      "execution_count": null,
      "metadata": {
        "id": "jpcuHnVhpSmt"
      },
      "outputs": [],
      "source": [
        ""
      ]
    },
    {
      "cell_type": "code",
      "execution_count": null,
      "metadata": {
        "id": "laJOh_WppSmt"
      },
      "outputs": [],
      "source": [
        ""
      ]
    },
    {
      "cell_type": "markdown",
      "source": [
        "# Deep Learning"
      ],
      "metadata": {
        "id": "gd6GBJqebmZI"
      }
    },
    {
      "cell_type": "code",
      "source": [
        "!pip install scikeras[tensorflow]"
      ],
      "metadata": {
        "id": "o9dU6OhNbojU"
      },
      "execution_count": 21,
      "outputs": []
    },
    {
      "cell_type": "code",
      "source": [
        "import keras\n",
        "import tensorflow as tf\n",
        "import keras.backend as K\n",
        "from scikeras.wrappers import KerasClassifier"
      ],
      "metadata": {
        "id": "h059q77NbtNF"
      },
      "execution_count": 22,
      "outputs": []
    },
    {
      "cell_type": "code",
      "source": [
        "def get_f1(y_true, y_pred): #taken from old keras source code\n",
        "    true_positives = K.sum(K.round(K.clip(y_true * y_pred, 0, 1)))\n",
        "    possible_positives = K.sum(K.round(K.clip(y_true, 0, 1)))\n",
        "    predicted_positives = K.sum(K.round(K.clip(y_pred, 0, 1)))\n",
        "    precision = true_positives / (predicted_positives + K.epsilon())\n",
        "    recall = true_positives / (possible_positives + K.epsilon())\n",
        "    f1_val = 2*(precision*recall)/(precision+recall+K.epsilon())\n",
        "    return f1_val"
      ],
      "metadata": {
        "id": "jsPP0ZmfbvSS"
      },
      "execution_count": 23,
      "outputs": []
    },
    {
      "cell_type": "code",
      "source": [
        "params = {\n",
        "    \"hidden_layer_dim\": [50, 100, 200],\n",
        "    'optimizer__learning_rate': [0.001],\n",
        "    'momentum': [0.0, 0.2, 0.4, 0.6, 0.8, 0.9],\n",
        "    'optimizer': ['Adagrad', 'Adam'],\n",
        "    'activation': ['softmax', 'relu', 'sigmoid', 'linear']\n",
        "}"
      ],
      "metadata": {
        "id": "ioiurFLCb6dk"
      },
      "execution_count": 71,
      "outputs": []
    },
    {
      "cell_type": "code",
      "source": [
        ""
      ],
      "metadata": {
        "id": "vTyb3emDm-X0"
      },
      "execution_count": 1,
      "outputs": []
    },
    {
      "cell_type": "code",
      "source": [
        ""
      ],
      "metadata": {
        "id": "_UyBx26Wm-8b"
      },
      "execution_count": 1,
      "outputs": []
    },
    {
      "cell_type": "code",
      "source": [
        ""
      ],
      "metadata": {
        "id": "4BDgiLsWm-_e"
      },
      "execution_count": null,
      "outputs": []
    },
    {
      "cell_type": "code",
      "source": [
        "from keras import callbacks\n",
        "def get_model():\n",
        "    # note that meta is a special argument that will be\n",
        "    # handed a dict containing input metadata\n",
        "\n",
        "    model = keras.models.Sequential()\n",
        "    model.add(keras.layers.Input(shape = (34,)))\n",
        "    model.add(keras.layers.Activation(\"relu\"))\n",
        "    model.add(keras.layers.Dense(50))\n",
        "    model.add(keras.layers.Activation(\"relu\"))\n",
        "    model.add(keras.layers.Dense(50))\n",
        "    model.add(keras.layers.Activation(\"relu\"))\n",
        "    model.add(keras.layers.Dense(50))\n",
        "    model.add(keras.layers.Activation(\"relu\"))\n",
        "    model.add(keras.layers.Dense(50))\n",
        "    model.add(keras.layers.Activation(\"relu\"))\n",
        "    model.add(keras.layers.Dense(50))\n",
        "    model.add(keras.layers.Activation(\"relu\"))\n",
        "    model.add(keras.layers.Dense(50))\n",
        "    model.add(keras.layers.Activation(\"relu\"))\n",
        "    model.add(keras.layers.Dense(50))\n",
        "    model.add(keras.layers.Activation(\"relu\"))\n",
        "    model.add(keras.layers.Dense(1))\n",
        "    model.add(keras.layers.Activation(\"sigmoid\"))\n",
        "    model.compile(loss='binary_crossentropy', \n",
        "              optimizer=tf.keras.optimizers.Adam(\n",
        "                                                  learning_rate=0.001,\n",
        "                                                  beta_1=0.91,\n",
        "                                                  beta_2=0.99,\n",
        "                                                  epsilon=1e-06,\n",
        "                                                  amsgrad=False,\n",
        "                                                  name=\"Adam\",\n",
        "              ), \n",
        "              metrics=[get_f1])\n",
        "    return model"
      ],
      "metadata": {
        "id": "H2u5etYybvXF"
      },
      "execution_count": 88,
      "outputs": []
    },
    {
      "cell_type": "code",
      "source": [
        "model = KerasClassifier(get_model, loss='binary_crossentropy', epochs=30)\n",
        "# gs = GridSearchCV(model, params, refit=False, cv=5, scoring='f1')\n",
        "\n",
        "# gs.fit(X.select_dtypes(exclude = 'object'), y)"
      ],
      "metadata": {
        "id": "yhwnQiE5bzQO"
      },
      "execution_count": 89,
      "outputs": []
    },
    {
      "cell_type": "code",
      "source": [
        "history = model.fit(X.select_dtypes(exclude = 'object'), y)"
      ],
      "metadata": {
        "id": "4Bgb6VFMbvaS"
      },
      "execution_count": null,
      "outputs": []
    },
    {
      "cell_type": "code",
      "source": [
        ""
      ],
      "metadata": {
        "id": "VulQwhjFbvdl"
      },
      "execution_count": 68,
      "outputs": []
    },
    {
      "cell_type": "code",
      "source": [
        ""
      ],
      "metadata": {
        "id": "JLB7Y2WJbvgR"
      },
      "execution_count": null,
      "outputs": []
    },
    {
      "cell_type": "code",
      "source": [
        ""
      ],
      "metadata": {
        "id": "0C3smp4ubomT"
      },
      "execution_count": 66,
      "outputs": []
    },
    {
      "cell_type": "code",
      "source": [
        ""
      ],
      "metadata": {
        "id": "dBjHd9XpbopF"
      },
      "execution_count": null,
      "outputs": []
    },
    {
      "cell_type": "markdown",
      "metadata": {
        "id": "YwyiTK77pSmu"
      },
      "source": [
        "# Making Predictions"
      ]
    },
    {
      "cell_type": "code",
      "source": [
        "df.info()"
      ],
      "metadata": {
        "id": "2BFmlUJuqTr4",
        "outputId": "b38abeed-b71e-4fbc-fe50-17a70edf1598",
        "colab": {
          "base_uri": "https://localhost:8080/"
        }
      },
      "execution_count": 24,
      "outputs": [
        {
          "output_type": "stream",
          "name": "stdout",
          "text": [
            "<class 'pandas.core.frame.DataFrame'>\n",
            "RangeIndex: 39161 entries, 0 to 39160\n",
            "Data columns (total 25 columns):\n",
            " #   Column                  Non-Null Count  Dtype  \n",
            "---  ------                  --------------  -----  \n",
            " 0   campaign_var_1          39161 non-null  int64  \n",
            " 1   campaign_var_2          39161 non-null  int64  \n",
            " 2   products_purchased      18250 non-null  float64\n",
            " 3   user_activity_var_1     39161 non-null  int64  \n",
            " 4   user_activity_var_2     39161 non-null  int64  \n",
            " 5   user_activity_var_3     39161 non-null  int64  \n",
            " 6   user_activity_var_4     39161 non-null  int64  \n",
            " 7   user_activity_var_5     39161 non-null  int64  \n",
            " 8   user_activity_var_6     39161 non-null  int64  \n",
            " 9   user_activity_var_7     39161 non-null  int64  \n",
            " 10  user_activity_var_8     39161 non-null  int64  \n",
            " 11  user_activity_var_9     39161 non-null  int64  \n",
            " 12  user_activity_var_10    39161 non-null  int64  \n",
            " 13  user_activity_var_11    39161 non-null  int64  \n",
            " 14  user_activity_var_12    39161 non-null  int64  \n",
            " 15  buy                     39161 non-null  int64  \n",
            " 16  created_at_day_of_week  39161 non-null  object \n",
            " 17  created_at_dow          39161 non-null  int64  \n",
            " 18  created_at_isWeekwnd    39161 non-null  int64  \n",
            " 19  created_at_dateWeek     39161 non-null  int8   \n",
            " 20  created_at_quarter      39161 non-null  int64  \n",
            " 21  created_at_month_sin    39161 non-null  float64\n",
            " 22  created_at_month_cos    39161 non-null  float64\n",
            " 23  created_at_date_sin     39161 non-null  float64\n",
            " 24  created_at_date_cos     39161 non-null  float64\n",
            "dtypes: float64(5), int64(18), int8(1), object(1)\n",
            "memory usage: 7.2+ MB\n"
          ]
        }
      ]
    },
    {
      "cell_type": "code",
      "source": [
        "df['products_purchased'] = df['products_purchased'].astype('category')"
      ],
      "metadata": {
        "id": "xKCK9nivpzd7"
      },
      "execution_count": 25,
      "outputs": []
    },
    {
      "cell_type": "code",
      "source": [
        "from sklearn.preprocessing import LabelEncoder\n",
        "encoder = LabelEncoder()\n",
        "#encode all the cat features\n",
        "\n",
        "df['products_purchased'] = encoder.fit_transform(df['products_purchased'])"
      ],
      "metadata": {
        "id": "w3SWkLg5pzad"
      },
      "execution_count": 26,
      "outputs": []
    },
    {
      "cell_type": "code",
      "source": [
        "from sklearn.preprocessing import PowerTransformer\n",
        "from sklearn.preprocessing import StandardScaler\n",
        "pt = PowerTransformer()\n",
        "scaler = StandardScaler()"
      ],
      "metadata": {
        "id": "sgutt73TpzWU"
      },
      "execution_count": 27,
      "outputs": []
    },
    {
      "cell_type": "code",
      "source": [
        "X = df.select_dtypes(exclude='object').drop('buy', axis=1)\n",
        "y = df['buy']"
      ],
      "metadata": {
        "id": "72fdikKhrMKv"
      },
      "execution_count": 28,
      "outputs": []
    },
    {
      "cell_type": "code",
      "source": [
        "from sklearn.model_selection import train_test_split"
      ],
      "metadata": {
        "id": "WXI9Itl1rP-s"
      },
      "execution_count": 29,
      "outputs": []
    },
    {
      "cell_type": "code",
      "source": [
        "X_train, X_test, y_train, y_test = train_test_split(X, y, stratify=y, test_size=0.2)"
      ],
      "metadata": {
        "id": "c42gpCPbrJ-r"
      },
      "execution_count": 30,
      "outputs": []
    },
    {
      "cell_type": "code",
      "source": [
        "X_train = pt.fit_transform(X_train)\n",
        "X_test = pt.transform(X_test)\n",
        "\n",
        "#apply the scaling\n",
        "\n",
        "X_train = scaler.fit_transform(X_train)\n",
        "X_test = scaler.transform(X_test)"
      ],
      "metadata": {
        "id": "vEhmVWyIrqvZ"
      },
      "execution_count": 31,
      "outputs": []
    },
    {
      "cell_type": "code",
      "source": [
        "from sklearn.decomposition import PCA\n",
        "num_components = np.arange(5, 24)\n",
        "#check the total explained variance ratio using different number of principal components \n",
        "for comp in num_components:\n",
        "    pca = PCA(n_components=comp)\n",
        "    X_train_pca = pca.fit_transform(X_train)\n",
        "    print('Total Explained Variance Ratio using {} components = {}'.format(comp,np.sum(pca.explained_variance_ratio_)))"
      ],
      "metadata": {
        "id": "ApWmweFkrqq9",
        "outputId": "61aa8427-aafe-48ee-c36c-2839493ec60e",
        "colab": {
          "base_uri": "https://localhost:8080/"
        }
      },
      "execution_count": 32,
      "outputs": [
        {
          "output_type": "stream",
          "name": "stdout",
          "text": [
            "Total Explained Variance Ratio using 5 components = 0.38041614186537254\n",
            "Total Explained Variance Ratio using 6 components = 0.4300305731702748\n",
            "Total Explained Variance Ratio using 7 components = 0.4757635459361382\n",
            "Total Explained Variance Ratio using 8 components = 0.5212955718470068\n",
            "Total Explained Variance Ratio using 9 components = 0.5654053349427381\n",
            "Total Explained Variance Ratio using 10 components = 0.6094081356157601\n",
            "Total Explained Variance Ratio using 11 components = 0.6528375812769873\n",
            "Total Explained Variance Ratio using 12 components = 0.6958119758583964\n",
            "Total Explained Variance Ratio using 13 components = 0.7380368883948696\n",
            "Total Explained Variance Ratio using 14 components = 0.7793642139258377\n",
            "Total Explained Variance Ratio using 15 components = 0.819814212310962\n",
            "Total Explained Variance Ratio using 16 components = 0.8591458762081912\n",
            "Total Explained Variance Ratio using 17 components = 0.897135542897149\n",
            "Total Explained Variance Ratio using 18 components = 0.9308797698970865\n",
            "Total Explained Variance Ratio using 19 components = 0.9574806562164151\n",
            "Total Explained Variance Ratio using 20 components = 0.9760451530141236\n",
            "Total Explained Variance Ratio using 21 components = 0.987230517185422\n",
            "Total Explained Variance Ratio using 22 components = 0.9977603232264386\n",
            "Total Explained Variance Ratio using 23 components = 0.9999999999999999\n"
          ]
        }
      ]
    },
    {
      "cell_type": "code",
      "source": [
        ""
      ],
      "metadata": {
        "id": "_v2Wya0vrKCa"
      },
      "execution_count": 32,
      "outputs": []
    },
    {
      "cell_type": "code",
      "execution_count": 33,
      "metadata": {
        "id": "wvNllsPDpSmu"
      },
      "outputs": [],
      "source": [
        "#import the required tensorflow keras libraries\n",
        "from tensorflow.keras.models import Sequential\n",
        "from tensorflow.keras.layers import Dense\n",
        "from tensorflow.keras.layers import Dropout\n",
        "from tensorflow.keras.callbacks import EarlyStopping"
      ]
    },
    {
      "cell_type": "code",
      "source": [
        ""
      ],
      "metadata": {
        "id": "QzrvmpPhssIh"
      },
      "execution_count": 33,
      "outputs": []
    },
    {
      "cell_type": "code",
      "source": [
        "def create_model(optimizer='adam',init='glorot_uniform',dropout=0.0):\n",
        "    model = keras.models.Sequential()\n",
        "    #add the layers\n",
        "    model.add(keras.layers.Dense(units=500,input_dim=X_train.shape[1],activation='relu',kernel_initializer=init))\n",
        "    model.add(keras.layers.Dense(units=300,activation='relu',kernel_initializer=init))\n",
        "    model.add(keras.layers.Dropout(dropout))\n",
        "    model.add(keras.layers.Dense(units=100,activation='relu',kernel_initializer=init))\n",
        "    model.add(keras.layers.Dropout(dropout))\n",
        "    model.add(keras.layers.Dense(units=50,activation='relu',kernel_initializer=init))\n",
        "    model.add(keras.layers.Dropout(dropout))\n",
        "    model.add(keras.layers.Dense(units=1,activation='sigmoid',kernel_initializer=init))\n",
        "    #compile the model\n",
        "    model.compile(loss='binary_crossentropy',optimizer=optimizer,metrics=[get_f1])\n",
        "    #return the model\n",
        "    return model"
      ],
      "metadata": {
        "id": "EPhfpQEsm9GP"
      },
      "execution_count": 34,
      "outputs": []
    },
    {
      "cell_type": "code",
      "source": [
        "#define the early stop criteria\n",
        "early_stop = EarlyStopping(monitor='val_loss',patience=10,restore_best_weights=True)\n",
        "#create the model\n",
        "model = KerasClassifier(build_fn=create_model,epochs=100,batch_size=16,verbose=0)"
      ],
      "metadata": {
        "id": "1Ve7EJSEsj9Z"
      },
      "execution_count": 35,
      "outputs": []
    },
    {
      "cell_type": "code",
      "source": [
        "model = create_model(optimizer='adam',dropout=0.25)\n",
        "history = model.fit(X_train,y_train,epochs=100,callbacks=[early_stop],validation_data=(X_test,y_test),\n",
        "          verbose=2)"
      ],
      "metadata": {
        "id": "wNKzMHqGsp8i",
        "outputId": "0f97a6a2-3765-45c2-d8ce-9ddf76c6d21e",
        "colab": {
          "base_uri": "https://localhost:8080/"
        }
      },
      "execution_count": 36,
      "outputs": [
        {
          "output_type": "stream",
          "name": "stdout",
          "text": [
            "Epoch 1/100\n",
            "979/979 - 9s - loss: 0.1291 - get_f1: 0.3816 - val_loss: 0.1026 - val_get_f1: 0.4426 - 9s/epoch - 9ms/step\n",
            "Epoch 2/100\n",
            "979/979 - 3s - loss: 0.1122 - get_f1: 0.4050 - val_loss: 0.1002 - val_get_f1: 0.4363 - 3s/epoch - 3ms/step\n",
            "Epoch 3/100\n",
            "979/979 - 3s - loss: 0.1088 - get_f1: 0.4251 - val_loss: 0.1025 - val_get_f1: 0.4520 - 3s/epoch - 3ms/step\n",
            "Epoch 4/100\n",
            "979/979 - 2s - loss: 0.1079 - get_f1: 0.4124 - val_loss: 0.1004 - val_get_f1: 0.4395 - 2s/epoch - 3ms/step\n",
            "Epoch 5/100\n",
            "979/979 - 3s - loss: 0.1053 - get_f1: 0.4254 - val_loss: 0.1018 - val_get_f1: 0.4270 - 3s/epoch - 3ms/step\n",
            "Epoch 6/100\n",
            "979/979 - 2s - loss: 0.1048 - get_f1: 0.4224 - val_loss: 0.1014 - val_get_f1: 0.4351 - 2s/epoch - 2ms/step\n",
            "Epoch 7/100\n",
            "979/979 - 3s - loss: 0.1036 - get_f1: 0.4160 - val_loss: 0.1008 - val_get_f1: 0.4384 - 3s/epoch - 3ms/step\n",
            "Epoch 8/100\n",
            "979/979 - 2s - loss: 0.1015 - get_f1: 0.4229 - val_loss: 0.0988 - val_get_f1: 0.4400 - 2s/epoch - 2ms/step\n",
            "Epoch 9/100\n",
            "979/979 - 3s - loss: 0.1000 - get_f1: 0.4408 - val_loss: 0.1009 - val_get_f1: 0.4260 - 3s/epoch - 3ms/step\n",
            "Epoch 10/100\n",
            "979/979 - 2s - loss: 0.0985 - get_f1: 0.4357 - val_loss: 0.1016 - val_get_f1: 0.4237 - 2s/epoch - 2ms/step\n",
            "Epoch 11/100\n",
            "979/979 - 2s - loss: 0.0979 - get_f1: 0.4310 - val_loss: 0.1104 - val_get_f1: 0.4010 - 2s/epoch - 2ms/step\n",
            "Epoch 12/100\n",
            "979/979 - 2s - loss: 0.0966 - get_f1: 0.4322 - val_loss: 0.1023 - val_get_f1: 0.4388 - 2s/epoch - 3ms/step\n",
            "Epoch 13/100\n",
            "979/979 - 2s - loss: 0.0942 - get_f1: 0.4211 - val_loss: 0.1014 - val_get_f1: 0.4398 - 2s/epoch - 2ms/step\n",
            "Epoch 14/100\n",
            "979/979 - 2s - loss: 0.0919 - get_f1: 0.4311 - val_loss: 0.1078 - val_get_f1: 0.4378 - 2s/epoch - 3ms/step\n",
            "Epoch 15/100\n",
            "979/979 - 3s - loss: 0.0901 - get_f1: 0.4430 - val_loss: 0.1093 - val_get_f1: 0.4482 - 3s/epoch - 3ms/step\n",
            "Epoch 16/100\n",
            "979/979 - 3s - loss: 0.0880 - get_f1: 0.4513 - val_loss: 0.1048 - val_get_f1: 0.4112 - 3s/epoch - 3ms/step\n",
            "Epoch 17/100\n",
            "979/979 - 2s - loss: 0.0852 - get_f1: 0.4473 - val_loss: 0.1096 - val_get_f1: 0.4328 - 2s/epoch - 2ms/step\n",
            "Epoch 18/100\n",
            "979/979 - 2s - loss: 0.0840 - get_f1: 0.4568 - val_loss: 0.1121 - val_get_f1: 0.4254 - 2s/epoch - 2ms/step\n"
          ]
        }
      ]
    },
    {
      "cell_type": "code",
      "source": [
        ""
      ],
      "metadata": {
        "id": "CCumF9A7s75L"
      },
      "execution_count": null,
      "outputs": []
    }
  ],
  "metadata": {
    "colab": {
      "name": "job_a_thon.ipynb",
      "provenance": [],
      "include_colab_link": true
    },
    "kernelspec": {
      "display_name": "Python 3 (ipykernel)",
      "language": "python",
      "name": "python3"
    },
    "language_info": {
      "codemirror_mode": {
        "name": "ipython",
        "version": 3
      },
      "file_extension": ".py",
      "mimetype": "text/x-python",
      "name": "python",
      "nbconvert_exporter": "python",
      "pygments_lexer": "ipython3",
      "version": "3.10.4"
    },
    "accelerator": "GPU"
  },
  "nbformat": 4,
  "nbformat_minor": 0
}